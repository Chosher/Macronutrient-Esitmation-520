{
 "cells": [
  {
   "cell_type": "markdown",
   "metadata": {
    "scrolled": true
   },
   "source": [
    "Example notebook to train a resnet classfication model and then make predictions"
   ]
  },
  {
   "cell_type": "code",
   "execution_count": null,
   "metadata": {},
   "outputs": [],
   "source": [
    "import pandas as pd\n",
    "import os\n",
    "import matplotlib\n",
    "from keras.applications.resnet50 import ResNet50\n",
    "from keras.applications.resnet import ResNet101\n",
    "from keras.models import Model\n",
    "from sklearn.model_selection import train_test_split\n",
    "import keras\n",
    "import tensorflow as tf\n",
    "from keras.layers import Conv2D, MaxPooling2D, Flatten, Dense, Dropout, InputLayer, Activation, GlobalAveragePooling2D, BatchNormalization\n",
    "from keras.models import Sequential\n",
    "from keras import optimizers\n",
    "from keras.optimizers import SGD\n",
    "from keras.optimizers import Adam\n",
    "from keras.preprocessing.image import load_img\n",
    "from keras.preprocessing.image import ImageDataGenerator\n",
    "import matplotlib.pyplot as plt\n",
    "import numpy as np\n",
    "from sklearn.metrics import mean_squared_error\n",
    "from sklearn.metrics import mean_absolute_error\n",
    "from math import sqrt\n",
    "from sklearn import preprocessing\n",
    "from sklearn.preprocessing import MinMaxScaler, StandardScaler\n",
    "from sklearn.dummy import DummyRegressor\n",
    "from sklearn.utils import shuffle\n",
    "from keras.applications.vgg19 import VGG19\n",
    "from keras.applications.resnet import preprocess_input"
   ]
  },
  {
   "cell_type": "code",
   "execution_count": 2,
   "metadata": {},
   "outputs": [
    {
     "name": "stdout",
     "output_type": "stream",
     "text": [
      "[PhysicalDevice(name='/physical_device:GPU:0', device_type='GPU')]\n",
      "True\n"
     ]
    }
   ],
   "source": [
    "#Check if GPU can be found and is built with cuda\n",
    "print(tf.config.experimental.list_physical_devices('GPU'))\n",
    "print(tf.test.is_built_with_cuda())"
   ]
  },
  {
   "cell_type": "code",
   "execution_count": 3,
   "metadata": {},
   "outputs": [],
   "source": [
    "#Store path\n",
    "train_dir = 'FOODX-251_Dataset/train_set/'\n",
    "val_dir = 'FOODX-251_Dataset/val_set/'\n",
    "#Macornutrient data\n",
    "macro_df = pd.read_csv('FOODX-251_Dataset/macro_data_foodX251.csv')\n",
    "\n",
    "#Merge macronutrient data with image labels for train and validation set. \n",
    "train_df = pd.read_csv('FOODX-251_Dataset/train_labels.csv')\n",
    "\n",
    "train_names, val_names = train_test_split(train_df, test_size = 0.15, random_state=42)\n",
    "m_train_df = pd.merge(train_names, macro_df, on='label')\n",
    "\n",
    "# m_train_df = pd.merge(train_df, macro_df, on='label')\n",
    "m_val_df = pd.merge(val_names, macro_df, on='label')\n",
    "\n",
    "# df2 = m_train_df.loc[m_train_df['label'] == 162]\n",
    "# df2.head(1000)"
   ]
  },
  {
   "cell_type": "code",
   "execution_count": 4,
   "metadata": {},
   "outputs": [],
   "source": [
    "# # m_train_df.label.hist()\n",
    "# m_train_df['label'].value_counts()"
   ]
  },
  {
   "cell_type": "code",
   "execution_count": 5,
   "metadata": {},
   "outputs": [],
   "source": [
    "# m_val_df['label'].value_counts()"
   ]
  },
  {
   "cell_type": "code",
   "execution_count": 6,
   "metadata": {},
   "outputs": [],
   "source": [
    "m_train_df = shuffle(m_train_df)\n",
    "m_val_df = shuffle(m_val_df)\n",
    "#df2 = m_val_df.loc[m_val_df['label'] == 247]\n",
    "#m_train_df = m_train_df.head(10000)"
   ]
  },
  {
   "cell_type": "code",
   "execution_count": 7,
   "metadata": {},
   "outputs": [],
   "source": [
    "#m_val_df = m_val_df.head(10000)"
   ]
  },
  {
   "cell_type": "code",
   "execution_count": 8,
   "metadata": {},
   "outputs": [
    {
     "data": {
      "text/html": [
       "<div>\n",
       "<style scoped>\n",
       "    .dataframe tbody tr th:only-of-type {\n",
       "        vertical-align: middle;\n",
       "    }\n",
       "\n",
       "    .dataframe tbody tr th {\n",
       "        vertical-align: top;\n",
       "    }\n",
       "\n",
       "    .dataframe thead th {\n",
       "        text-align: right;\n",
       "    }\n",
       "</style>\n",
       "<table border=\"1\" class=\"dataframe\">\n",
       "  <thead>\n",
       "    <tr style=\"text-align: right;\">\n",
       "      <th></th>\n",
       "      <th>img_name</th>\n",
       "      <th>label</th>\n",
       "      <th>Energy</th>\n",
       "      <th>Protein</th>\n",
       "      <th>Fat</th>\n",
       "      <th>Carbohydrate</th>\n",
       "    </tr>\n",
       "  </thead>\n",
       "  <tbody>\n",
       "    <tr>\n",
       "      <th>0</th>\n",
       "      <td>val_010323.jpg</td>\n",
       "      <td>247</td>\n",
       "      <td>339.0</td>\n",
       "      <td>4.07</td>\n",
       "      <td>19.24</td>\n",
       "      <td>39.84</td>\n",
       "    </tr>\n",
       "    <tr>\n",
       "      <th>1</th>\n",
       "      <td>val_010350.jpg</td>\n",
       "      <td>247</td>\n",
       "      <td>339.0</td>\n",
       "      <td>4.07</td>\n",
       "      <td>19.24</td>\n",
       "      <td>39.84</td>\n",
       "    </tr>\n",
       "    <tr>\n",
       "      <th>2</th>\n",
       "      <td>val_010389.jpg</td>\n",
       "      <td>247</td>\n",
       "      <td>339.0</td>\n",
       "      <td>4.07</td>\n",
       "      <td>19.24</td>\n",
       "      <td>39.84</td>\n",
       "    </tr>\n",
       "    <tr>\n",
       "      <th>3</th>\n",
       "      <td>val_010404.jpg</td>\n",
       "      <td>247</td>\n",
       "      <td>339.0</td>\n",
       "      <td>4.07</td>\n",
       "      <td>19.24</td>\n",
       "      <td>39.84</td>\n",
       "    </tr>\n",
       "    <tr>\n",
       "      <th>4</th>\n",
       "      <td>val_010471.jpg</td>\n",
       "      <td>247</td>\n",
       "      <td>339.0</td>\n",
       "      <td>4.07</td>\n",
       "      <td>19.24</td>\n",
       "      <td>39.84</td>\n",
       "    </tr>\n",
       "  </tbody>\n",
       "</table>\n",
       "</div>"
      ],
      "text/plain": [
       "         img_name  label  Energy  Protein    Fat  Carbohydrate\n",
       "0  val_010323.jpg    247   339.0     4.07  19.24         39.84\n",
       "1  val_010350.jpg    247   339.0     4.07  19.24         39.84\n",
       "2  val_010389.jpg    247   339.0     4.07  19.24         39.84\n",
       "3  val_010404.jpg    247   339.0     4.07  19.24         39.84\n",
       "4  val_010471.jpg    247   339.0     4.07  19.24         39.84"
      ]
     },
     "execution_count": 8,
     "metadata": {},
     "output_type": "execute_result"
    }
   ],
   "source": [
    "test_df = pd.read_csv('FOODX-251_Dataset/val_labels.csv')\n",
    "m_test_df = pd.merge(test_df, macro_df, on='label')\n",
    "m_test_df.head()"
   ]
  },
  {
   "cell_type": "code",
   "execution_count": 9,
   "metadata": {},
   "outputs": [
    {
     "name": "stdout",
     "output_type": "stream",
     "text": [
      "(100703, 6)\n",
      "(17772, 6)\n",
      "(11994, 6)\n"
     ]
    }
   ],
   "source": [
    "print(m_train_df.shape)\n",
    "print(m_val_df.shape)\n",
    "print(m_test_df.shape)"
   ]
  },
  {
   "cell_type": "code",
   "execution_count": 10,
   "metadata": {},
   "outputs": [
    {
     "data": {
      "text/html": [
       "<div>\n",
       "<style scoped>\n",
       "    .dataframe tbody tr th:only-of-type {\n",
       "        vertical-align: middle;\n",
       "    }\n",
       "\n",
       "    .dataframe tbody tr th {\n",
       "        vertical-align: top;\n",
       "    }\n",
       "\n",
       "    .dataframe thead th {\n",
       "        text-align: right;\n",
       "    }\n",
       "</style>\n",
       "<table border=\"1\" class=\"dataframe\">\n",
       "  <thead>\n",
       "    <tr style=\"text-align: right;\">\n",
       "      <th></th>\n",
       "      <th>img_name</th>\n",
       "      <th>label</th>\n",
       "      <th>Energy</th>\n",
       "      <th>Protein</th>\n",
       "      <th>Fat</th>\n",
       "      <th>Carbohydrate</th>\n",
       "    </tr>\n",
       "  </thead>\n",
       "  <tbody>\n",
       "    <tr>\n",
       "      <th>30836</th>\n",
       "      <td>train_059598.jpg</td>\n",
       "      <td>0</td>\n",
       "      <td>0.884582</td>\n",
       "      <td>0.305181</td>\n",
       "      <td>0.467268</td>\n",
       "      <td>0.634413</td>\n",
       "    </tr>\n",
       "    <tr>\n",
       "      <th>97460</th>\n",
       "      <td>train_054633.jpg</td>\n",
       "      <td>18</td>\n",
       "      <td>0.357490</td>\n",
       "      <td>0.472548</td>\n",
       "      <td>0.281264</td>\n",
       "      <td>0.028265</td>\n",
       "    </tr>\n",
       "    <tr>\n",
       "      <th>19639</th>\n",
       "      <td>train_063091.jpg</td>\n",
       "      <td>37</td>\n",
       "      <td>0.154462</td>\n",
       "      <td>0.096193</td>\n",
       "      <td>0.023132</td>\n",
       "      <td>0.225670</td>\n",
       "    </tr>\n",
       "    <tr>\n",
       "      <th>26563</th>\n",
       "      <td>train_109917.jpg</td>\n",
       "      <td>228</td>\n",
       "      <td>0.285259</td>\n",
       "      <td>0.196259</td>\n",
       "      <td>0.171700</td>\n",
       "      <td>0.190662</td>\n",
       "    </tr>\n",
       "    <tr>\n",
       "      <th>74834</th>\n",
       "      <td>train_034374.jpg</td>\n",
       "      <td>66</td>\n",
       "      <td>0.322351</td>\n",
       "      <td>0.477566</td>\n",
       "      <td>0.181108</td>\n",
       "      <td>0.109873</td>\n",
       "    </tr>\n",
       "  </tbody>\n",
       "</table>\n",
       "</div>"
      ],
      "text/plain": [
       "               img_name  label    Energy   Protein       Fat  Carbohydrate\n",
       "30836  train_059598.jpg      0  0.884582  0.305181  0.467268      0.634413\n",
       "97460  train_054633.jpg     18  0.357490  0.472548  0.281264      0.028265\n",
       "19639  train_063091.jpg     37  0.154462  0.096193  0.023132      0.225670\n",
       "26563  train_109917.jpg    228  0.285259  0.196259  0.171700      0.190662\n",
       "74834  train_034374.jpg     66  0.322351  0.477566  0.181108      0.109873"
      ]
     },
     "execution_count": 10,
     "metadata": {},
     "output_type": "execute_result"
    }
   ],
   "source": [
    "scaler = MinMaxScaler(feature_range=(0.01, 0.99))\n",
    "m_train_df[['Energy' , 'Protein' , 'Fat' , 'Carbohydrate']] = scaler.fit_transform(m_train_df[['Energy' , 'Protein' , 'Fat' , 'Carbohydrate']])\n",
    "\n",
    "\n",
    "m_val_df[['Energy' , 'Protein' , 'Fat' , 'Carbohydrate']] = scaler.fit_transform(m_val_df[['Energy' , 'Protein' , 'Fat' , 'Carbohydrate']])\n",
    "m_train_df.head()"
   ]
  },
  {
   "cell_type": "code",
   "execution_count": 11,
   "metadata": {
    "scrolled": true
   },
   "outputs": [
    {
     "name": "stdout",
     "output_type": "stream",
     "text": [
      "WARNING:tensorflow:From /home/jwf5/venv/lib/python3.5/site-packages/keras/backend/tensorflow_backend.py:4070: The name tf.nn.max_pool is deprecated. Please use tf.nn.max_pool2d instead.\n",
      "\n"
     ]
    }
   ],
   "source": [
    "#Setup ResNet101 removing top\n",
    "resnet1 = ResNet101(include_top=False, weights='imagenet', input_shape=[150,150,3])#, pooling='avg'\n",
    "# output = resnet.layers[-1].output\n",
    "# output = keras.layers.Flatten()(output)\n",
    "# resnet = Model(resnet.input, outputs=output)\n",
    "\n",
    "#Freeze ResNet layers\n",
    "# for layer in resnet.layers:\n",
    "#     layer.trainable = False\n",
    "    \n",
    "# model_transfer_full = Sequential()\n",
    "# x = resnet.output\n",
    "# x = Flatten()(x)\n",
    "# x = Dense(256, activation='relu')(x)\n",
    "# # x = BatchNormalization()(x)\n",
    "# x = Dropout(0.3)(x)\n",
    "# predictions = Dense(251, activation='softmax')(x)\n",
    "# # model_transfer_full.add(resnet)\n",
    "# # model_transfer_full.add(Dense(300, activation='relu'))\n",
    "# # model_transfer_full.add(GlobalAveragePooling2D())\n",
    "# # model_transfer_full.add(Dropout(0.5))\n",
    "# model_transfer_full = Model(inputs=resnet.input, outputs=predictions)\n",
    "# # model_transfer_full.add(Dense(251, activation='softmax'))\n",
    "# model_transfer_full.summary()"
   ]
  },
  {
   "cell_type": "code",
   "execution_count": 12,
   "metadata": {},
   "outputs": [
    {
     "name": "stdout",
     "output_type": "stream",
     "text": [
      "Model: \"sequential_1\"\n",
      "_________________________________________________________________\n",
      "Layer (type)                 Output Shape              Param #   \n",
      "=================================================================\n",
      "resnet101 (Model)            (None, 5, 5, 2048)        42658176  \n",
      "_________________________________________________________________\n",
      "flatten_1 (Flatten)          (None, 51200)             0         \n",
      "_________________________________________________________________\n",
      "dense_1 (Dense)              (None, 1024)              52429824  \n",
      "_________________________________________________________________\n",
      "dropout_1 (Dropout)          (None, 1024)              0         \n",
      "_________________________________________________________________\n",
      "dense_2 (Dense)              (None, 512)               524800    \n",
      "_________________________________________________________________\n",
      "dropout_2 (Dropout)          (None, 512)               0         \n",
      "_________________________________________________________________\n",
      "dense_3 (Dense)              (None, 251)               128763    \n",
      "=================================================================\n",
      "Total params: 95,741,563\n",
      "Trainable params: 95,636,219\n",
      "Non-trainable params: 105,344\n",
      "_________________________________________________________________\n"
     ]
    }
   ],
   "source": [
    "model = Sequential()\n",
    "model.add(resnet1)\n",
    "\n",
    "model.add(Flatten())\n",
    "model.add(Dense(1024, activation='relu'))\n",
    "model.add(Dropout(0.5))\n",
    "model.add(Dense(512, activation='relu'))\n",
    "model.add(Dropout(0.5))\n",
    "model.add(Dense(251, activation='softmax'))\n",
    "model.summary()"
   ]
  },
  {
   "cell_type": "code",
   "execution_count": 13,
   "metadata": {},
   "outputs": [],
   "source": [
    "# base_model = ResNet101(include_top=False, weights=\"imagenet\", input_shape=(100,100,3))\n",
    "# x = Flatten()(base_model.output)\n",
    "# x = Dense(251, activation=\"softmax\")(x)\n",
    "# model = Model(base_model.input, x)\n",
    "\n",
    "# for layer in base_model.layers:\n",
    "#     layer.trainable = False\n",
    "# model.save_weights(\"all_nontrainable.h5\")\n",
    "\n",
    "# base_model = ResNet101(include_top=False, weights=\"imagenet\", input_shape=(100, 100, 3))\n",
    "# x = Flatten()(base_model.output)\n",
    "# x = Dense(251, activation=\"softmax\")(x)\n",
    "# #Try sigmoid\n",
    "# model = Model(base_model.input, x)\n",
    "\n",
    "# for layer in base_model.layers[:-51]:\n",
    "#     layer.trainable = False\n",
    "# model.load_weights(\"all_nontrainable.h5\")\n",
    "# # base_model = tf.keras.applications.MobileNetV2(input_shape=(100, 100, 3),\n",
    "# #                                                include_top=False,\n",
    "# #                                                weights='imagenet')"
   ]
  },
  {
   "cell_type": "code",
   "execution_count": 14,
   "metadata": {},
   "outputs": [],
   "source": [
    "# base_model.trainable = False\n",
    "# base_model.summary()"
   ]
  },
  {
   "cell_type": "code",
   "execution_count": 15,
   "metadata": {},
   "outputs": [],
   "source": [
    "# global_average_layer = tf.keras.layers.GlobalAveragePooling2D()\n",
    "# feature_batch_average = (64, 5, 5, 1280)\n",
    "# print(feature_batch_average.shape)\n",
    "import functools\n",
    "top3_acc = functools.partial(keras.metrics.top_k_categorical_accuracy, k=3)\n",
    "\n",
    "top3_acc.__name__ = 'top3_acc'"
   ]
  },
  {
   "cell_type": "code",
   "execution_count": 16,
   "metadata": {},
   "outputs": [],
   "source": [
    "#model = Sequential()\n",
    "#model.add(resnet)\n",
    "#Add layer for regression prediction\n",
    "#model.add(Dense(4, activation='linear'))\n",
    "adam = Adam(lr=0.00005)\n",
    "model.compile(loss='categorical_crossentropy', optimizer=adam, metrics=['accuracy' ,top3_acc])\n",
    "#model_transfer_full.summary()"
   ]
  },
  {
   "cell_type": "code",
   "execution_count": 17,
   "metadata": {},
   "outputs": [
    {
     "name": "stdout",
     "output_type": "stream",
     "text": [
      "Found 100703 validated image filenames belonging to 251 classes.\n",
      "Found 17772 validated image filenames belonging to 251 classes.\n",
      "Found 11994 validated image filenames belonging to 251 classes.\n"
     ]
    }
   ],
   "source": [
    "m_train_df['label'] = m_train_df['label'].apply(str)\n",
    "m_val_df['label'] = m_val_df['label'].apply(str)\n",
    "m_test_df['label'] = m_test_df['label'].apply(str)\n",
    "#Set up keras generators for extracting image informationa and for preprocessing\n",
    "columns=[\"Energy\", \"Protein\", \"Fat\", \"Carbohydrate\"]\n",
    "\n",
    "\n",
    "train_datagen = ImageDataGenerator(\n",
    "        rescale=1.0/255.0, \n",
    "        shear_range=0.2,\n",
    "        zoom_range=0.2,\n",
    "#         preprocessing_function=preprocess_input,\n",
    "        horizontal_flip=True)\n",
    "test_datagen=ImageDataGenerator(rescale=1.0/255.0)\n",
    "train_generator = train_datagen.flow_from_dataframe(\n",
    "        dataframe=m_train_df,\n",
    "        directory=\"./FOODX-251_Dataset/train_set\",\n",
    "        x_col = 'img_name', \n",
    "        y_col = 'label',\n",
    "        batch_size = 64,\n",
    "        seed = 42,\n",
    "        shuffle=True,\n",
    "        class_mode=\"categorical\",\n",
    "        target_size=(150,150))  \n",
    "\n",
    "valid_generator=train_datagen.flow_from_dataframe(\n",
    "        dataframe=m_val_df,\n",
    "        directory=\"./FOODX-251_Dataset/train_set\",\n",
    "        x_col='img_name',\n",
    "        y_col='label',\n",
    "        batch_size=64,\n",
    "        seed=42,\n",
    "        shuffle=True,\n",
    "        class_mode=\"categorical\",\n",
    "        target_size=(150,150))\n",
    "\n",
    "test_generator=test_datagen.flow_from_dataframe(\n",
    "        dataframe=m_test_df,\n",
    "        directory=\"./FOODX-251_Dataset/val_set\",\n",
    "        x_col='img_name',\n",
    "        y_col='label',\n",
    "        batch_size=1,\n",
    "        seed=42,\n",
    "        shuffle=False,\n",
    "        class_mode=\"categorical\",\n",
    "        target_size=(150,150))\n",
    "#plt.imshow(images[1])"
   ]
  },
  {
   "cell_type": "code",
   "execution_count": 18,
   "metadata": {},
   "outputs": [],
   "source": [
    "from keras.callbacks import LearningRateScheduler\n",
    "\n",
    "# This is a sample of a scheduler I used in the past\n",
    "def lr_scheduler(epoch, lr):\n",
    "    decay_rate = 0.1\n",
    "    decay_step = 10\n",
    "    if epoch % decay_step == 0 and epoch:\n",
    "        return lr * decay_rate\n",
    "    return lr"
   ]
  },
  {
   "cell_type": "code",
   "execution_count": 19,
   "metadata": {},
   "outputs": [],
   "source": [
    "callbacks = [LearningRateScheduler(lr_scheduler, verbose=1)]"
   ]
  },
  {
   "cell_type": "code",
   "execution_count": 20,
   "metadata": {},
   "outputs": [],
   "source": [
    "#Wrapper to have multiple outputs\n",
    "# def generator_wrapper(generator):\n",
    "#     for batch_x,batch_y in generator:\n",
    "#         yield (batch_x,[batch_y[:,i] for i in range(4)])"
   ]
  },
  {
   "cell_type": "code",
   "execution_count": null,
   "metadata": {},
   "outputs": [
    {
     "name": "stdout",
     "output_type": "stream",
     "text": [
      "WARNING:tensorflow:From /home/jwf5/venv/lib/python3.5/site-packages/keras/backend/tensorflow_backend.py:422: The name tf.global_variables is deprecated. Please use tf.compat.v1.global_variables instead.\n",
      "\n",
      "Epoch 1/50\n",
      "\n",
      "Epoch 00001: LearningRateScheduler setting learning rate to 4.999999873689376e-05.\n",
      "1573/1573 [==============================] - 659s 419ms/step - loss: 5.4637 - accuracy: 0.0180 - top3_acc: 0.0412 - val_loss: 4.8535 - val_accuracy: 0.1011 - val_top3_acc: 0.1954\n",
      "Epoch 2/50\n",
      "\n",
      "Epoch 00002: LearningRateScheduler setting learning rate to 4.999999873689376e-05.\n",
      "1573/1573 [==============================] - 640s 407ms/step - loss: 4.5422 - accuracy: 0.1158 - top3_acc: 0.2158 - val_loss: 3.8416 - val_accuracy: 0.2394 - val_top3_acc: 0.4024\n",
      "Epoch 3/50\n",
      "\n",
      "Epoch 00003: LearningRateScheduler setting learning rate to 4.999999873689376e-05.\n",
      "1573/1573 [==============================] - 637s 405ms/step - loss: 3.8483 - accuracy: 0.2127 - top3_acc: 0.3573 - val_loss: 2.9812 - val_accuracy: 0.3047 - val_top3_acc: 0.4838\n",
      "Epoch 4/50\n",
      "\n",
      "Epoch 00004: LearningRateScheduler setting learning rate to 4.999999873689376e-05.\n",
      "1573/1573 [==============================] - 636s 404ms/step - loss: 3.4258 - accuracy: 0.2811 - top3_acc: 0.4420 - val_loss: 3.4427 - val_accuracy: 0.3466 - val_top3_acc: 0.5228\n",
      "Epoch 5/50\n",
      "\n",
      "Epoch 00005: LearningRateScheduler setting learning rate to 4.999999873689376e-05.\n",
      "1573/1573 [==============================] - 637s 405ms/step - loss: 3.1262 - accuracy: 0.3326 - top3_acc: 0.5038 - val_loss: 3.3534 - val_accuracy: 0.3542 - val_top3_acc: 0.5258\n",
      "Epoch 6/50\n",
      "\n",
      "Epoch 00006: LearningRateScheduler setting learning rate to 4.999999873689376e-05.\n",
      "1573/1573 [==============================] - 635s 404ms/step - loss: 2.8825 - accuracy: 0.3747 - top3_acc: 0.5485 - val_loss: 2.7540 - val_accuracy: 0.3918 - val_top3_acc: 0.5769\n",
      "Epoch 7/50\n",
      "\n",
      "Epoch 00007: LearningRateScheduler setting learning rate to 4.999999873689376e-05.\n",
      "1573/1573 [==============================] - 649s 412ms/step - loss: 2.6770 - accuracy: 0.4136 - top3_acc: 0.5870 - val_loss: 2.9304 - val_accuracy: 0.4105 - val_top3_acc: 0.5922\n",
      "Epoch 8/50\n",
      "\n",
      "Epoch 00008: LearningRateScheduler setting learning rate to 4.999999873689376e-05.\n",
      "1573/1573 [==============================] - 716s 455ms/step - loss: 2.5592 - accuracy: 0.4317 - top3_acc: 0.6108 - val_loss: 2.9964 - val_accuracy: 0.4190 - val_top3_acc: 0.6021\n",
      "Epoch 9/50\n",
      "\n",
      "Epoch 00009: LearningRateScheduler setting learning rate to 4.999999873689376e-05.\n",
      "1573/1573 [==============================] - 915s 582ms/step - loss: 2.4751 - accuracy: 0.4494 - top3_acc: 0.6267 - val_loss: 2.5623 - val_accuracy: 0.4278 - val_top3_acc: 0.6045\n",
      "Epoch 10/50\n",
      "\n",
      "Epoch 00010: LearningRateScheduler setting learning rate to 4.999999873689376e-05.\n",
      "1573/1573 [==============================] - 719s 457ms/step - loss: 2.2389 - accuracy: 0.4913 - top3_acc: 0.6660 - val_loss: 2.4289 - val_accuracy: 0.4401 - val_top3_acc: 0.6242\n",
      "Epoch 11/50\n",
      "\n",
      "Epoch 00011: LearningRateScheduler setting learning rate to 4.999999873689376e-06.\n",
      "1573/1573 [==============================] - 655s 416ms/step - loss: 1.9225 - accuracy: 0.5529 - top3_acc: 0.7198 - val_loss: 2.5019 - val_accuracy: 0.4619 - val_top3_acc: 0.6411\n",
      "Epoch 12/50\n",
      "\n",
      "Epoch 00012: LearningRateScheduler setting learning rate to 4.999999873689376e-06.\n",
      "1573/1573 [==============================] - 642s 408ms/step - loss: 1.8100 - accuracy: 0.5727 - top3_acc: 0.7388 - val_loss: 2.0791 - val_accuracy: 0.4665 - val_top3_acc: 0.6443\n",
      "Epoch 13/50\n",
      "\n",
      "Epoch 00013: LearningRateScheduler setting learning rate to 4.999999873689376e-06.\n",
      "1573/1573 [==============================] - 644s 409ms/step - loss: 1.7572 - accuracy: 0.5847 - top3_acc: 0.7468 - val_loss: 2.3358 - val_accuracy: 0.4684 - val_top3_acc: 0.6444\n",
      "Epoch 14/50\n",
      "\n",
      "Epoch 00014: LearningRateScheduler setting learning rate to 4.999999873689376e-06.\n",
      "1573/1573 [==============================] - 642s 408ms/step - loss: 1.7138 - accuracy: 0.5923 - top3_acc: 0.7548 - val_loss: 3.0382 - val_accuracy: 0.4691 - val_top3_acc: 0.6498\n",
      "Epoch 15/50\n",
      "\n",
      "Epoch 00015: LearningRateScheduler setting learning rate to 4.999999873689376e-06.\n",
      "1573/1573 [==============================] - 637s 405ms/step - loss: 1.6606 - accuracy: 0.6030 - top3_acc: 0.7635 - val_loss: 2.0537 - val_accuracy: 0.4726 - val_top3_acc: 0.6542\n",
      "Epoch 16/50\n",
      "\n",
      "Epoch 00016: LearningRateScheduler setting learning rate to 4.999999873689376e-06.\n",
      "1573/1573 [==============================] - 636s 404ms/step - loss: 1.6265 - accuracy: 0.6097 - top3_acc: 0.7693 - val_loss: 2.1414 - val_accuracy: 0.4741 - val_top3_acc: 0.6530\n",
      "Epoch 17/50\n",
      "\n",
      "Epoch 00017: LearningRateScheduler setting learning rate to 4.999999873689376e-06.\n",
      "1573/1573 [==============================] - 634s 403ms/step - loss: 1.5786 - accuracy: 0.6202 - top3_acc: 0.7772 - val_loss: 2.7132 - val_accuracy: 0.4728 - val_top3_acc: 0.6508\n",
      "Epoch 18/50\n",
      "\n",
      "Epoch 00018: LearningRateScheduler setting learning rate to 4.999999873689376e-06.\n",
      "1573/1573 [==============================] - 650s 413ms/step - loss: 1.5477 - accuracy: 0.6258 - top3_acc: 0.7824 - val_loss: 2.7486 - val_accuracy: 0.4781 - val_top3_acc: 0.6566\n",
      "Epoch 19/50\n",
      "\n",
      "Epoch 00019: LearningRateScheduler setting learning rate to 4.999999873689376e-06.\n",
      "1573/1573 [==============================] - 636s 404ms/step - loss: 1.5076 - accuracy: 0.6325 - top3_acc: 0.7894 - val_loss: 2.5126 - val_accuracy: 0.4744 - val_top3_acc: 0.6506\n",
      "Epoch 20/50\n",
      "\n",
      "Epoch 00020: LearningRateScheduler setting learning rate to 4.999999873689376e-06.\n",
      " 517/1573 [========>.....................] - ETA: 6:15 - loss: 1.4706 - accuracy: 0.6421 - top3_acc: 0.7958"
     ]
    }
   ],
   "source": [
    "#Fit the model\n",
    "STEP_SIZE_TRAIN=train_generator.n//train_generator.batch_size\n",
    "STEP_SIZE_VALID=valid_generator.n//valid_generator.batch_size\n",
    "STEP_SIZE_TEST=test_generator.n//test_generator.batch_size\n",
    "history = model.fit_generator(generator=train_generator,\n",
    "                    callbacks=callbacks,\n",
    "                    steps_per_epoch=STEP_SIZE_TRAIN,\n",
    "                    validation_data=valid_generator,\n",
    "                    validation_steps=STEP_SIZE_VALID,\n",
    "                    epochs=50\n",
    ")"
   ]
  },
  {
   "cell_type": "code",
   "execution_count": 30,
   "metadata": {},
   "outputs": [
    {
     "data": {
      "image/png": "[encoded data removed]",
      "text/plain": [
       "<Figure size 432x288 with 1 Axes>"
      ]
     },
     "metadata": {
      "needs_background": "light"
     },
     "output_type": "display_data"
    }
   ],
   "source": [
    "# Plot history: MAE\n",
    "plt.plot(history.history['loss'], label='MSE ')\n",
    "plt.plot(history.history['val_loss'], label='MSE (validation data)')\n",
    "plt.title('MSE for ResNet101')\n",
    "plt.ylabel('MSE value')\n",
    "plt.xlabel('No. epoch')\n",
    "plt.legend(loc=\"upper left\")\n",
    "plt.show()"
   ]
  },
  {
   "cell_type": "code",
   "execution_count": 37,
   "metadata": {},
   "outputs": [],
   "source": [
    "# Plot history: MAE\n",
    "# plt.plot(history.history['mean_squared_error'], label='MAE ')\n",
    "# plt.plot(history.history['val_mean_squared_error'], label='MAE (validation data)')\n",
    "# plt.title('MAE for ResNe101')\n",
    "# plt.ylabel('MAE value')\n",
    "# plt.xlabel('No. epoch')\n",
    "# plt.legend(loc=\"upper left\")\n",
    "# plt.show()"
   ]
  },
  {
   "cell_type": "code",
   "execution_count": 73,
   "metadata": {},
   "outputs": [
    {
     "name": "stdout",
     "output_type": "stream",
     "text": [
      "11994/11994 [==============================] - 209s 17ms/step\n"
     ]
    }
   ],
   "source": [
    "test_generator.reset()\n",
    "pred=model.predict_generator(test_generator,\n",
    "steps=STEP_SIZE_TEST,\n",
    "verbose=1)"
   ]
  },
  {
   "cell_type": "code",
   "execution_count": null,
   "metadata": {},
   "outputs": [],
   "source": []
  },
  {
   "cell_type": "code",
   "execution_count": 39,
   "metadata": {
    "scrolled": true
   },
   "outputs": [
    {
     "name": "stdout",
     "output_type": "stream",
     "text": [
      "11994/11994 [==============================] - 218s 18ms/step\n"
     ]
    }
   ],
   "source": [
    "# results=pd.DataFrame(pred, columns=columns)\n",
    "\n",
    "acc= model.evaluate_generator(test_generator, steps=STEP_SIZE_TEST, verbose=1)\n"
   ]
  },
  {
   "cell_type": "code",
   "execution_count": 40,
   "metadata": {},
   "outputs": [
    {
     "name": "stdout",
     "output_type": "stream",
     "text": [
      "[3.0848612785339355, 0.5345172882080078, 0.7185259461402893]\n",
      "['loss', 'accuracy', 'top3_acc']\n"
     ]
    }
   ],
   "source": [
    "print(acc)\n",
    "print(model.metrics_names)"
   ]
  },
  {
   "cell_type": "code",
   "execution_count": null,
   "metadata": {},
   "outputs": [],
   "source": []
  },
  {
   "cell_type": "code",
   "execution_count": 116,
   "metadata": {},
   "outputs": [
    {
     "name": "stdout",
     "output_type": "stream",
     "text": [
      "[165, 151, 238]\n"
     ]
    }
   ],
   "source": [
    "topThreeMapped = []\n",
    "topThree = []\n",
    "pred2 = pred.copy()\n",
    "# Get actual label\n",
    "labels = (test_generator.class_indices)\n",
    "labels = dict((v,k) for k,v in labels.items())\n",
    "\n",
    "# Get max\n",
    "top1 = pred2.argmax(axis=1)\n",
    "# Map to actual\n",
    "top11 = [labels[k] for k in top1]\n",
    "# Convert to int\n",
    "for i in range(0, len(top11)): \n",
    "    top11[i] = int(top11[i]) \n",
    "# Set max to zero(to get next highest)\n",
    "for i in range(len(top1)):\n",
    "    pred2[i][top1[i]] = 0\n",
    "\n",
    "top2 = pred2.argmax(axis=1)\n",
    "top22 = [labels[k] for k in top2]\n",
    "for i in range(0, len(top22)): \n",
    "    top22[i] = int(top22[i]) \n",
    "\n",
    "for i in range(len(top2)):\n",
    "    pred2[i][top2[i]] = 0\n",
    "\n",
    "top3 = pred2.argmax(axis=1)\n",
    "top33 = [labels[k] for k in top3]\n",
    "for i in range(0, len(top33)): \n",
    "    top3[i] = int(top33[i]) \n",
    "    \n",
    "for i in range(len(top3)):\n",
    "    pred2[i][top3[i]] = 0\n",
    "    \n",
    "for t in range(len(top1)):\n",
    "    temp = [top1[t], top2[t], top3[t]]\n",
    "    temp1 = [top11[t], top22[t], top33[t]]\n",
    "    topThree.append(temp)\n",
    "    topThreeMapped.append(temp1)\n",
    "print(topThree[0])\n",
    "\n",
    "    "
   ]
  },
  {
   "cell_type": "code",
   "execution_count": 155,
   "metadata": {},
   "outputs": [
    {
     "data": {
      "text/html": [
       "<div>\n",
       "<style scoped>\n",
       "    .dataframe tbody tr th:only-of-type {\n",
       "        vertical-align: middle;\n",
       "    }\n",
       "\n",
       "    .dataframe tbody tr th {\n",
       "        vertical-align: top;\n",
       "    }\n",
       "\n",
       "    .dataframe thead th {\n",
       "        text-align: right;\n",
       "    }\n",
       "</style>\n",
       "<table border=\"1\" class=\"dataframe\">\n",
       "  <thead>\n",
       "    <tr style=\"text-align: right;\">\n",
       "      <th></th>\n",
       "      <th>Energy</th>\n",
       "      <th>Protein</th>\n",
       "      <th>Fat</th>\n",
       "      <th>Carbohydrate</th>\n",
       "    </tr>\n",
       "  </thead>\n",
       "  <tbody>\n",
       "    <tr>\n",
       "      <th>0</th>\n",
       "      <td>339.0</td>\n",
       "      <td>18.835982</td>\n",
       "      <td>3.993204</td>\n",
       "      <td>39.042435</td>\n",
       "    </tr>\n",
       "    <tr>\n",
       "      <th>1</th>\n",
       "      <td>137.0</td>\n",
       "      <td>2.034133</td>\n",
       "      <td>5.891334</td>\n",
       "      <td>8.849242</td>\n",
       "    </tr>\n",
       "    <tr>\n",
       "      <th>2</th>\n",
       "      <td>339.0</td>\n",
       "      <td>19.227807</td>\n",
       "      <td>4.070692</td>\n",
       "      <td>39.847647</td>\n",
       "    </tr>\n",
       "    <tr>\n",
       "      <th>3</th>\n",
       "      <td>339.0</td>\n",
       "      <td>18.773159</td>\n",
       "      <td>3.980866</td>\n",
       "      <td>39.058432</td>\n",
       "    </tr>\n",
       "    <tr>\n",
       "      <th>4</th>\n",
       "      <td>339.0</td>\n",
       "      <td>19.115038</td>\n",
       "      <td>4.109804</td>\n",
       "      <td>39.480549</td>\n",
       "    </tr>\n",
       "  </tbody>\n",
       "</table>\n",
       "</div>"
      ],
      "text/plain": [
       "   Energy    Protein       Fat  Carbohydrate\n",
       "0   339.0  18.835982  3.993204     39.042435\n",
       "1   137.0   2.034133  5.891334      8.849242\n",
       "2   339.0  19.227807  4.070692     39.847647\n",
       "3   339.0  18.773159  3.980866     39.058432\n",
       "4   339.0  19.115038  4.109804     39.480549"
      ]
     },
     "execution_count": 155,
     "metadata": {},
     "output_type": "execute_result"
    }
   ],
   "source": [
    "energyPred = []\n",
    "fatPred = [] \n",
    "proteinPred = [] \n",
    "carbPred = []\n",
    "#Convert to array\n",
    "macro_energy = macro_df['Energy'].to_numpy()\n",
    "macro_fat = macro_df['Fat'].to_numpy()\n",
    "macro_protein = macro_df['Protein'].to_numpy()\n",
    "macro_carbs = macro_df['Carbohydrate'].to_numpy()\n",
    "\n",
    "#Calcuate amcronutrients\n",
    "for t in range(len(topThree)):\n",
    "    s = macro_energy[topThreeMapped[t][0]] * pred[t][topThree[t][0]] + macro_energy[topThreeMapped[t][1]] * pred[t][topThree[t][1]] + macro_energy[int(topThreeMapped[t][int(2)])] * pred[t][int(topThree[t][int(2)])] \n",
    "    energyPred.append(s)\n",
    "    s = macro_fat[topThreeMapped[t][0]] * pred[t][topThree[t][0]] + macro_fat[topThreeMapped[t][1]] * pred[t][topThree[t][1]] + macro_fat[int(topThreeMapped[t][int(2)])] * pred[t][int(topThree[t][int(2)])] \n",
    "    fatPred.append(s)\n",
    "    s = macro_protein[topThreeMapped[t][0]] * pred[t][topThree[t][0]] + macro_protein[topThreeMapped[t][1]] * pred[t][topThree[t][1]] + macro_protein[int(topThreeMapped[t][int(2)])] * pred[t][int(topThree[t][int(2)])] \n",
    "    proteinPred.append(s)\n",
    "    s = macro_carbs[topThreeMapped[t][0]] * pred[t][topThree[t][0]] + macro_carbs[topThreeMapped[t][1]] * pred[t][topThree[t][1]] + macro_carbs[int(topThreeMapped[t][int(2)])] * pred[t][int(topThree[t][int(2)])] \n",
    "    carbPred.append(s)\n",
    "    \n",
    "\n",
    "dataframe = pd.DataFrame({'Energy':energyPred, 'Protein':fatPred, 'Fat':proteinPred, 'Carbohydrate':carbPred }, columns=['Energy', 'Protein', 'Fat', 'Carbohydrate'])\n",
    "m_test_df['label'] = m_test_df['label'].apply(int)\n",
    "dataframe.head()"
   ]
  },
  {
   "cell_type": "code",
   "execution_count": 156,
   "metadata": {},
   "outputs": [],
   "source": [
    "#resultsRescaled = scaler.inverse_transform(results)\n",
    "\n",
    "# y_classes = pred.argmax(axis=-1)\n",
    "# print(y_classes)\n",
    "# labels = (test_generator.class_indices)\n",
    "# labels = dict((v,k) for k,v in labels.items())\n",
    "# predictions1 = [labels[k] for k in y_classes]\n",
    "# for i in range(0, len(predictions1)): \n",
    "#     predictions1[i] = int(predictions1[i]) \n",
    "# m_test_df['label'] = m_test_df['label'].apply(int)\n"
   ]
  },
  {
   "cell_type": "code",
   "execution_count": 157,
   "metadata": {},
   "outputs": [],
   "source": [
    "#accuracy_score(np.argmax(m_test_df, axis=1), np.argmax(pred, axis=1))#"
   ]
  },
  {
   "cell_type": "code",
   "execution_count": 158,
   "metadata": {},
   "outputs": [],
   "source": [
    "#macro_df\n",
    "# dataframe=pd.DataFrame(predictions1, columns=['label']) \n",
    "# #dfResults = pd.merge(dataframe, macro_df, on='label', sort=False)\n",
    "# #dfResults = dataframe.merge(dataframe.merge(macro_df, how='left', on='label', sort=False))\n",
    "# predictions1 = dataframe.reset_index().merge(macro_df, how='left', on='label', sort=False).sort_index()\n",
    "# predictions1.head()"
   ]
  },
  {
   "cell_type": "code",
   "execution_count": 159,
   "metadata": {},
   "outputs": [],
   "source": [
    "# sum1 = 0\n",
    "# int1 = 0\n",
    "# for index, row in dfResults.iterrows():\n",
    "#     if predictions1.iloc[int1, 1] == m_test_df.iloc[int1, 1]:\n",
    "#         sum1+=1\n",
    "#     int1+=1\n",
    "# print(sum1)\n",
    "# print(int1)\n",
    "# print(m_test_df.iloc[2, 1])\n",
    "# print(predictions1.iloc[2, 1])"
   ]
  },
  {
   "cell_type": "code",
   "execution_count": 160,
   "metadata": {},
   "outputs": [
    {
     "data": {
      "text/html": [
       "<div>\n",
       "<style scoped>\n",
       "    .dataframe tbody tr th:only-of-type {\n",
       "        vertical-align: middle;\n",
       "    }\n",
       "\n",
       "    .dataframe tbody tr th {\n",
       "        vertical-align: top;\n",
       "    }\n",
       "\n",
       "    .dataframe thead th {\n",
       "        text-align: right;\n",
       "    }\n",
       "</style>\n",
       "<table border=\"1\" class=\"dataframe\">\n",
       "  <thead>\n",
       "    <tr style=\"text-align: right;\">\n",
       "      <th></th>\n",
       "      <th>img_name</th>\n",
       "      <th>label</th>\n",
       "      <th>Energy</th>\n",
       "      <th>Protein</th>\n",
       "      <th>Fat</th>\n",
       "      <th>Carbohydrate</th>\n",
       "    </tr>\n",
       "  </thead>\n",
       "  <tbody>\n",
       "    <tr>\n",
       "      <th>0</th>\n",
       "      <td>val_010323.jpg</td>\n",
       "      <td>247</td>\n",
       "      <td>339.0</td>\n",
       "      <td>4.07</td>\n",
       "      <td>19.24</td>\n",
       "      <td>39.84</td>\n",
       "    </tr>\n",
       "    <tr>\n",
       "      <th>1</th>\n",
       "      <td>val_010350.jpg</td>\n",
       "      <td>247</td>\n",
       "      <td>339.0</td>\n",
       "      <td>4.07</td>\n",
       "      <td>19.24</td>\n",
       "      <td>39.84</td>\n",
       "    </tr>\n",
       "    <tr>\n",
       "      <th>2</th>\n",
       "      <td>val_010389.jpg</td>\n",
       "      <td>247</td>\n",
       "      <td>339.0</td>\n",
       "      <td>4.07</td>\n",
       "      <td>19.24</td>\n",
       "      <td>39.84</td>\n",
       "    </tr>\n",
       "    <tr>\n",
       "      <th>3</th>\n",
       "      <td>val_010404.jpg</td>\n",
       "      <td>247</td>\n",
       "      <td>339.0</td>\n",
       "      <td>4.07</td>\n",
       "      <td>19.24</td>\n",
       "      <td>39.84</td>\n",
       "    </tr>\n",
       "    <tr>\n",
       "      <th>4</th>\n",
       "      <td>val_010471.jpg</td>\n",
       "      <td>247</td>\n",
       "      <td>339.0</td>\n",
       "      <td>4.07</td>\n",
       "      <td>19.24</td>\n",
       "      <td>39.84</td>\n",
       "    </tr>\n",
       "  </tbody>\n",
       "</table>\n",
       "</div>"
      ],
      "text/plain": [
       "         img_name  label  Energy  Protein    Fat  Carbohydrate\n",
       "0  val_010323.jpg    247   339.0     4.07  19.24         39.84\n",
       "1  val_010350.jpg    247   339.0     4.07  19.24         39.84\n",
       "2  val_010389.jpg    247   339.0     4.07  19.24         39.84\n",
       "3  val_010404.jpg    247   339.0     4.07  19.24         39.84\n",
       "4  val_010471.jpg    247   339.0     4.07  19.24         39.84"
      ]
     },
     "execution_count": 160,
     "metadata": {},
     "output_type": "execute_result"
    }
   ],
   "source": [
    "# loss, t= model.evaluate_generator(test_generator,\n",
    "#     steps=STEP_SIZE_TEST,\n",
    "#     verbose=1)\n",
    "# print( dfResults[:,0])\n",
    "m_test_df.head()"
   ]
  },
  {
   "cell_type": "code",
   "execution_count": 161,
   "metadata": {},
   "outputs": [
    {
     "name": "stdout",
     "output_type": "stream",
     "text": [
      "RSME for Energy: 90.29742105744113\n",
      "RSME for Protein: 9.32716603564754\n",
      "RSME for Fat: 10.331993270097955\n",
      "RSME for Carbohydrate: 15.020257090291695\n",
      "\n",
      "\n"
     ]
    }
   ],
   "source": [
    "RSMEArray = []\n",
    "RSMEArray.append(sqrt(mean_squared_error(m_test_df['Energy'], dataframe['Energy'])))\n",
    "RSMEArray.append(sqrt(mean_squared_error(m_test_df['Protein'],dataframe['Protein'])))\n",
    "RSMEArray.append(sqrt(mean_squared_error(m_test_df['Fat'], dataframe['Fat'])))\n",
    "RSMEArray.append(sqrt(mean_squared_error(m_test_df['Carbohydrate'], dataframe['Carbohydrate'])))\n",
    "print(\"RSME for Energy: \"  + str(RSMEArray[0]))\n",
    "print(\"RSME for Protein: \"  + str(RSMEArray[1])) \n",
    "print(\"RSME for Fat: \"  + str(RSMEArray[2]))\n",
    "print(\"RSME for Carbohydrate: \"  + str(RSMEArray[3]))\n",
    "print()\n",
    "print()\n"
   ]
  },
  {
   "cell_type": "code",
   "execution_count": 162,
   "metadata": {},
   "outputs": [
    {
     "name": "stdout",
     "output_type": "stream",
     "text": [
      "Results for using mean as predicted\n",
      "RSME Energy: 111.49862486903056\n",
      "RSME Protein: 6.728070397843198\n",
      "RSME Fat: 8.487148321355496\n",
      "RSME Carbohydrate: 19.356375952900237\n"
     ]
    }
   ],
   "source": [
    "\n",
    "\n",
    "dummy_regr = DummyRegressor(strategy=\"mean\")\n",
    "dummy_regr.fit(m_train_df['Energy'], m_train_df[['Energy' , 'Protein' , 'Fat', 'Carbohydrate']])\n",
    "pred1 = dummy_regr.predict(m_test_df[['Energy' , 'Protein' , 'Fat', 'Carbohydrate']])\n",
    "pred1 = scaler.inverse_transform(pred1)\n",
    "\n",
    "print(\"Results for using mean as predicted\")\n",
    "print(\"RSME Energy: \"  + str(sqrt(mean_squared_error(m_test_df['Energy'], pred1[:,0]))))\n",
    "print(\"RSME Protein: \"  + str(sqrt(mean_squared_error(m_test_df['Protein'], pred1[:,1]))))\n",
    "print(\"RSME Fat: \"  + str(sqrt(mean_squared_error(m_test_df['Fat'], pred1[:,2]))))\n",
    "print(\"RSME Carbohydrate: \"  + str(sqrt(mean_squared_error(m_test_df['Carbohydrate'], pred1[:,3]))))\n",
    "\n"
   ]
  },
  {
   "cell_type": "code",
   "execution_count": null,
   "metadata": {},
   "outputs": [],
   "source": []
  }
 ],
 "metadata": {
  "kernelspec": {
   "display_name": "Python 3",
   "language": "python",
   "name": "python3"
  },
  "language_info": {
   "codemirror_mode": {
    "name": "ipython",
    "version": 3
   },
   "file_extension": ".py",
   "mimetype": "text/x-python",
   "name": "python",
   "nbconvert_exporter": "python",
   "pygments_lexer": "ipython3",
   "version": "3.5.2"
  }
 },
 "nbformat": 4,
 "nbformat_minor": 4
}
