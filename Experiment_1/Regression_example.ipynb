{
 "cells": [
  {
   "cell_type": "markdown",
   "metadata": {},
   "source": [
    "Example notebook to train regression model to make macronutrient predictions"
   ]
  },
  {
   "cell_type": "code",
   "execution_count": null,
   "metadata": {},
   "outputs": [],
   "source": [
    "import pandas as pd\n",
    "import os\n",
    "import matplotlib\n",
    "from keras.applications.resnet50 import ResNet50\n",
    "from keras.applications.resnet import ResNet101\n",
    "from keras.models import Model\n",
    "from sklearn.model_selection import train_test_split\n",
    "import keras\n",
    "import tensorflow as tf\n",
    "from keras.layers import Conv2D, MaxPooling2D, Flatten, Dense, Dropout, InputLayer\n",
    "from keras.models import Sequential\n",
    "from keras import optimizers\n",
    "from keras.optimizers import SGD\n",
    "from keras.optimizers import Adam\n",
    "from keras.preprocessing.image import load_img\n",
    "from keras.preprocessing.image import ImageDataGenerator\n",
    "import matplotlib.pyplot as plt\n",
    "import numpy as np\n",
    "from sklearn.metrics import mean_squared_error\n",
    "from sklearn.metrics import mean_absolute_error\n",
    "from math import sqrt\n",
    "from sklearn import preprocessing\n",
    "from sklearn.preprocessing import MinMaxScaler, StandardScaler\n",
    "from sklearn.dummy import DummyRegressor\n",
    "from sklearn.utils import shuffle\n",
    "from keras.callbacks import ModelCheckpoint, EarlyStopping"
   ]
  },
  {
   "cell_type": "code",
   "execution_count": 2,
   "metadata": {},
   "outputs": [
    {
     "name": "stdout",
     "output_type": "stream",
     "text": [
      "[PhysicalDevice(name='/physical_device:GPU:0', device_type='GPU')]\n",
      "True\n"
     ]
    }
   ],
   "source": [
    "#Check if GPU can be found and is built with cuda\n",
    "print(tf.config.experimental.list_physical_devices('GPU'))\n",
    "print(tf.test.is_built_with_cuda())"
   ]
  },
  {
   "cell_type": "code",
   "execution_count": null,
   "metadata": {},
   "outputs": [],
   "source": []
  },
  {
   "cell_type": "code",
   "execution_count": 3,
   "metadata": {},
   "outputs": [
    {
     "data": {
      "text/html": [
       "<div>\n",
       "<style scoped>\n",
       "    .dataframe tbody tr th:only-of-type {\n",
       "        vertical-align: middle;\n",
       "    }\n",
       "\n",
       "    .dataframe tbody tr th {\n",
       "        vertical-align: top;\n",
       "    }\n",
       "\n",
       "    .dataframe thead th {\n",
       "        text-align: right;\n",
       "    }\n",
       "</style>\n",
       "<table border=\"1\" class=\"dataframe\">\n",
       "  <thead>\n",
       "    <tr style=\"text-align: right;\">\n",
       "      <th></th>\n",
       "      <th>img_name</th>\n",
       "      <th>label</th>\n",
       "      <th>Energy</th>\n",
       "      <th>Protein</th>\n",
       "      <th>Fat</th>\n",
       "      <th>Carbohydrate</th>\n",
       "    </tr>\n",
       "  </thead>\n",
       "  <tbody>\n",
       "    <tr>\n",
       "      <th>9949</th>\n",
       "      <td>train_014361.jpg</td>\n",
       "      <td>196</td>\n",
       "      <td>24.0</td>\n",
       "      <td>2.35</td>\n",
       "      <td>0.00</td>\n",
       "      <td>4.71</td>\n",
       "    </tr>\n",
       "    <tr>\n",
       "      <th>3435</th>\n",
       "      <td>train_070245.jpg</td>\n",
       "      <td>81</td>\n",
       "      <td>380.0</td>\n",
       "      <td>9.09</td>\n",
       "      <td>18.05</td>\n",
       "      <td>45.35</td>\n",
       "    </tr>\n",
       "    <tr>\n",
       "      <th>5867</th>\n",
       "      <td>train_035530.jpg</td>\n",
       "      <td>72</td>\n",
       "      <td>68.0</td>\n",
       "      <td>0.16</td>\n",
       "      <td>0.17</td>\n",
       "      <td>17.49</td>\n",
       "    </tr>\n",
       "    <tr>\n",
       "      <th>978</th>\n",
       "      <td>train_111913.jpg</td>\n",
       "      <td>232</td>\n",
       "      <td>207.0</td>\n",
       "      <td>7.46</td>\n",
       "      <td>10.28</td>\n",
       "      <td>21.20</td>\n",
       "    </tr>\n",
       "    <tr>\n",
       "      <th>65</th>\n",
       "      <td>train_038166.jpg</td>\n",
       "      <td>59</td>\n",
       "      <td>269.0</td>\n",
       "      <td>5.61</td>\n",
       "      <td>14.12</td>\n",
       "      <td>29.97</td>\n",
       "    </tr>\n",
       "  </tbody>\n",
       "</table>\n",
       "</div>"
      ],
      "text/plain": [
       "              img_name  label  Energy  Protein    Fat  Carbohydrate\n",
       "9949  train_014361.jpg    196    24.0     2.35   0.00          4.71\n",
       "3435  train_070245.jpg     81   380.0     9.09  18.05         45.35\n",
       "5867  train_035530.jpg     72    68.0     0.16   0.17         17.49\n",
       "978   train_111913.jpg    232   207.0     7.46  10.28         21.20\n",
       "65    train_038166.jpg     59   269.0     5.61  14.12         29.97"
      ]
     },
     "execution_count": 3,
     "metadata": {},
     "output_type": "execute_result"
    }
   ],
   "source": [
    "#Store path\n",
    "train_dir = '../FOODX-251_Dataset/train_set/'\n",
    "val_dir = '../FOODX-251_Dataset/val_set/'\n",
    "#Macornutrient data\n",
    "macro_df = pd.read_csv('../FOODX-251_Dataset/macro_data_foodX251.csv')\n",
    "\n",
    "#Merge macronutrient data with image labels for train and validation set. \n",
    "train_df = pd.read_csv('../FOODX-251_Dataset/train_labels.csv')\n",
    "\n",
    "train_names, val_names = train_test_split(train_df, test_size = 0.15, random_state=42)\n",
    "m_train_df = pd.merge(train_names, macro_df, on='label')\n",
    "\n",
    "\n",
    "m_val_df = pd.merge(val_names, macro_df, on='label')\n",
    "m_train_df = shuffle(m_train_df)\n",
    "m_val_df = shuffle(m_val_df)\n",
    "m_val_df.head()"
   ]
  },
  {
   "cell_type": "code",
   "execution_count": 4,
   "metadata": {},
   "outputs": [
    {
     "data": {
      "text/html": [
       "<div>\n",
       "<style scoped>\n",
       "    .dataframe tbody tr th:only-of-type {\n",
       "        vertical-align: middle;\n",
       "    }\n",
       "\n",
       "    .dataframe tbody tr th {\n",
       "        vertical-align: top;\n",
       "    }\n",
       "\n",
       "    .dataframe thead th {\n",
       "        text-align: right;\n",
       "    }\n",
       "</style>\n",
       "<table border=\"1\" class=\"dataframe\">\n",
       "  <thead>\n",
       "    <tr style=\"text-align: right;\">\n",
       "      <th></th>\n",
       "      <th>img_name</th>\n",
       "      <th>label</th>\n",
       "      <th>Energy</th>\n",
       "      <th>Protein</th>\n",
       "      <th>Fat</th>\n",
       "      <th>Carbohydrate</th>\n",
       "    </tr>\n",
       "  </thead>\n",
       "  <tbody>\n",
       "    <tr>\n",
       "      <th>0</th>\n",
       "      <td>val_010323.jpg</td>\n",
       "      <td>247</td>\n",
       "      <td>339.0</td>\n",
       "      <td>4.07</td>\n",
       "      <td>19.24</td>\n",
       "      <td>39.84</td>\n",
       "    </tr>\n",
       "    <tr>\n",
       "      <th>1</th>\n",
       "      <td>val_010350.jpg</td>\n",
       "      <td>247</td>\n",
       "      <td>339.0</td>\n",
       "      <td>4.07</td>\n",
       "      <td>19.24</td>\n",
       "      <td>39.84</td>\n",
       "    </tr>\n",
       "    <tr>\n",
       "      <th>2</th>\n",
       "      <td>val_010389.jpg</td>\n",
       "      <td>247</td>\n",
       "      <td>339.0</td>\n",
       "      <td>4.07</td>\n",
       "      <td>19.24</td>\n",
       "      <td>39.84</td>\n",
       "    </tr>\n",
       "    <tr>\n",
       "      <th>3</th>\n",
       "      <td>val_010404.jpg</td>\n",
       "      <td>247</td>\n",
       "      <td>339.0</td>\n",
       "      <td>4.07</td>\n",
       "      <td>19.24</td>\n",
       "      <td>39.84</td>\n",
       "    </tr>\n",
       "    <tr>\n",
       "      <th>4</th>\n",
       "      <td>val_010471.jpg</td>\n",
       "      <td>247</td>\n",
       "      <td>339.0</td>\n",
       "      <td>4.07</td>\n",
       "      <td>19.24</td>\n",
       "      <td>39.84</td>\n",
       "    </tr>\n",
       "  </tbody>\n",
       "</table>\n",
       "</div>"
      ],
      "text/plain": [
       "         img_name  label  Energy  Protein    Fat  Carbohydrate\n",
       "0  val_010323.jpg    247   339.0     4.07  19.24         39.84\n",
       "1  val_010350.jpg    247   339.0     4.07  19.24         39.84\n",
       "2  val_010389.jpg    247   339.0     4.07  19.24         39.84\n",
       "3  val_010404.jpg    247   339.0     4.07  19.24         39.84\n",
       "4  val_010471.jpg    247   339.0     4.07  19.24         39.84"
      ]
     },
     "execution_count": 4,
     "metadata": {},
     "output_type": "execute_result"
    }
   ],
   "source": [
    "test_df = pd.read_csv('../FOODX-251_Dataset/val_labels.csv')\n",
    "m_test_df = pd.merge(test_df, macro_df, on='label')\n",
    "m_test_df.head()"
   ]
  },
  {
   "cell_type": "code",
   "execution_count": 5,
   "metadata": {},
   "outputs": [
    {
     "name": "stdout",
     "output_type": "stream",
     "text": [
      "(100703, 6)\n",
      "(17772, 6)\n",
      "(11994, 6)\n"
     ]
    },
    {
     "data": {
      "text/plain": [
       "img_name        401.207171\n",
       "Energy          401.207171\n",
       "Protein         401.207171\n",
       "Fat             401.207171\n",
       "Carbohydrate    401.207171\n",
       "dtype: float64"
      ]
     },
     "execution_count": 5,
     "metadata": {},
     "output_type": "execute_result"
    }
   ],
   "source": [
    "print(m_train_df.shape)\n",
    "print(m_val_df.shape)\n",
    "print(m_test_df.shape)\n",
    "m_train_df.groupby(\"label\").count().mean()"
   ]
  },
  {
   "cell_type": "code",
   "execution_count": 6,
   "metadata": {},
   "outputs": [
    {
     "data": {
      "text/html": [
       "<div>\n",
       "<style scoped>\n",
       "    .dataframe tbody tr th:only-of-type {\n",
       "        vertical-align: middle;\n",
       "    }\n",
       "\n",
       "    .dataframe tbody tr th {\n",
       "        vertical-align: top;\n",
       "    }\n",
       "\n",
       "    .dataframe thead th {\n",
       "        text-align: right;\n",
       "    }\n",
       "</style>\n",
       "<table border=\"1\" class=\"dataframe\">\n",
       "  <thead>\n",
       "    <tr style=\"text-align: right;\">\n",
       "      <th></th>\n",
       "      <th>img_name</th>\n",
       "      <th>label</th>\n",
       "      <th>Energy</th>\n",
       "      <th>Protein</th>\n",
       "      <th>Fat</th>\n",
       "      <th>Carbohydrate</th>\n",
       "    </tr>\n",
       "  </thead>\n",
       "  <tbody>\n",
       "    <tr>\n",
       "      <th>32000</th>\n",
       "      <td>train_035508.jpg</td>\n",
       "      <td>72</td>\n",
       "      <td>-0.796733</td>\n",
       "      <td>-0.980458</td>\n",
       "      <td>-0.983268</td>\n",
       "      <td>-0.576258</td>\n",
       "    </tr>\n",
       "    <tr>\n",
       "      <th>91432</th>\n",
       "      <td>train_023325.jpg</td>\n",
       "      <td>17</td>\n",
       "      <td>0.343147</td>\n",
       "      <td>-0.244518</td>\n",
       "      <td>-0.919116</td>\n",
       "      <td>0.784194</td>\n",
       "    </tr>\n",
       "    <tr>\n",
       "      <th>93104</th>\n",
       "      <td>train_028221.jpg</td>\n",
       "      <td>82</td>\n",
       "      <td>-0.698127</td>\n",
       "      <td>-0.911277</td>\n",
       "      <td>-0.780516</td>\n",
       "      <td>-0.729548</td>\n",
       "    </tr>\n",
       "    <tr>\n",
       "      <th>36956</th>\n",
       "      <td>train_064621.jpg</td>\n",
       "      <td>191</td>\n",
       "      <td>-0.390478</td>\n",
       "      <td>0.423434</td>\n",
       "      <td>-0.813384</td>\n",
       "      <td>-0.816129</td>\n",
       "    </tr>\n",
       "    <tr>\n",
       "      <th>82923</th>\n",
       "      <td>train_087304.jpg</td>\n",
       "      <td>99</td>\n",
       "      <td>-0.619243</td>\n",
       "      <td>0.054867</td>\n",
       "      <td>-0.839520</td>\n",
       "      <td>-0.965634</td>\n",
       "    </tr>\n",
       "  </tbody>\n",
       "</table>\n",
       "</div>"
      ],
      "text/plain": [
       "               img_name  label    Energy   Protein       Fat  Carbohydrate\n",
       "32000  train_035508.jpg     72 -0.796733 -0.980458 -0.983268     -0.576258\n",
       "91432  train_023325.jpg     17  0.343147 -0.244518 -0.919116      0.784194\n",
       "93104  train_028221.jpg     82 -0.698127 -0.911277 -0.780516     -0.729548\n",
       "36956  train_064621.jpg    191 -0.390478  0.423434 -0.813384     -0.816129\n",
       "82923  train_087304.jpg     99 -0.619243  0.054867 -0.839520     -0.965634"
      ]
     },
     "execution_count": 6,
     "metadata": {},
     "output_type": "execute_result"
    }
   ],
   "source": [
    "scaler = MinMaxScaler(feature_range=(-0.99, 0.99))\n",
    "m_train_df[['Energy' , 'Protein' , 'Fat' , 'Carbohydrate']] = scaler.fit_transform(m_train_df[['Energy' , 'Protein' , 'Fat' , 'Carbohydrate']])\n",
    "\n",
    "\n",
    "m_val_df[['Energy' , 'Protein' , 'Fat' , 'Carbohydrate']] = scaler.fit_transform(m_val_df[['Energy' , 'Protein' , 'Fat' , 'Carbohydrate']])\n",
    "m_train_df.head()"
   ]
  },
  {
   "cell_type": "code",
   "execution_count": 7,
   "metadata": {},
   "outputs": [
    {
     "name": "stdout",
     "output_type": "stream",
     "text": [
      "WARNING:tensorflow:From /home/jwf5/venv/lib/python3.5/site-packages/keras/backend/tensorflow_backend.py:4070: The name tf.nn.max_pool is deprecated. Please use tf.nn.max_pool2d instead.\n",
      "\n"
     ]
    }
   ],
   "source": [
    "resnet = ResNet101(include_top=False, weights='imagenet', input_shape=(100,100,3))"
   ]
  },
  {
   "cell_type": "code",
   "execution_count": 8,
   "metadata": {},
   "outputs": [
    {
     "name": "stdout",
     "output_type": "stream",
     "text": [
      "Model: \"sequential_1\"\n",
      "_________________________________________________________________\n",
      "Layer (type)                 Output Shape              Param #   \n",
      "=================================================================\n",
      "resnet101 (Model)            (None, 4, 4, 2048)        42658176  \n",
      "_________________________________________________________________\n",
      "flatten_1 (Flatten)          (None, 32768)             0         \n",
      "_________________________________________________________________\n",
      "dense_1 (Dense)              (None, 1024)              33555456  \n",
      "_________________________________________________________________\n",
      "dropout_1 (Dropout)          (None, 1024)              0         \n",
      "_________________________________________________________________\n",
      "dense_2 (Dense)              (None, 512)               524800    \n",
      "_________________________________________________________________\n",
      "dropout_2 (Dropout)          (None, 512)               0         \n",
      "_________________________________________________________________\n",
      "dense_3 (Dense)              (None, 4)                 2052      \n",
      "=================================================================\n",
      "Total params: 76,740,484\n",
      "Trainable params: 76,635,140\n",
      "Non-trainable params: 105,344\n",
      "_________________________________________________________________\n"
     ]
    }
   ],
   "source": [
    "model = Sequential()\n",
    "model.add(resnet)\n",
    "\n",
    "model.add(Flatten())\n",
    "model.add(Dense(1024, activation='relu'))\n",
    "model.add(Dropout(0.5))\n",
    "model.add(Dense(512, activation='relu'))\n",
    "model.add(Dropout(0.5))\n",
    "model.add(Dense(4, activation='linear'))\n",
    "model.summary()"
   ]
  },
  {
   "cell_type": "code",
   "execution_count": null,
   "metadata": {},
   "outputs": [],
   "source": []
  },
  {
   "cell_type": "code",
   "execution_count": 9,
   "metadata": {},
   "outputs": [
    {
     "name": "stdout",
     "output_type": "stream",
     "text": [
      "Model: \"sequential_1\"\n",
      "_________________________________________________________________\n",
      "Layer (type)                 Output Shape              Param #   \n",
      "=================================================================\n",
      "resnet101 (Model)            (None, 4, 4, 2048)        42658176  \n",
      "_________________________________________________________________\n",
      "flatten_1 (Flatten)          (None, 32768)             0         \n",
      "_________________________________________________________________\n",
      "dense_1 (Dense)              (None, 1024)              33555456  \n",
      "_________________________________________________________________\n",
      "dropout_1 (Dropout)          (None, 1024)              0         \n",
      "_________________________________________________________________\n",
      "dense_2 (Dense)              (None, 512)               524800    \n",
      "_________________________________________________________________\n",
      "dropout_2 (Dropout)          (None, 512)               0         \n",
      "_________________________________________________________________\n",
      "dense_3 (Dense)              (None, 4)                 2052      \n",
      "=================================================================\n",
      "Total params: 76,740,484\n",
      "Trainable params: 76,635,140\n",
      "Non-trainable params: 105,344\n",
      "_________________________________________________________________\n"
     ]
    }
   ],
   "source": [
    "opt = Adam(lr=0.00005)\n",
    "model.compile(loss='mean_squared_error', optimizer=opt, metrics=['mean_absolute_error'])\n",
    "model.summary()"
   ]
  },
  {
   "cell_type": "code",
   "execution_count": 10,
   "metadata": {},
   "outputs": [
    {
     "name": "stdout",
     "output_type": "stream",
     "text": [
      "Found 100703 validated image filenames.\n",
      "Found 17772 validated image filenames.\n",
      "Found 11994 validated image filenames.\n"
     ]
    }
   ],
   "source": [
    "#Set up keras generators for extracting image informationa and for preprocessing\n",
    "columns=[\"Energy\" , \"Protein\", \"Fat\", \"Carbohydrate\"]\n",
    "#, \"Protein\", \"Fat\", \"Carbohydrate\"\n",
    "train_datagen = ImageDataGenerator(\n",
    "        rescale=1.0/255.0, \n",
    "    shear_range=0.2,\n",
    "        zoom_range=0.2,\n",
    "        horizontal_flip=True, \n",
    "        rotation_range=0)\n",
    "test_datagen=ImageDataGenerator(rescale=1.0/255.0)\n",
    "train_generator = train_datagen.flow_from_dataframe(\n",
    "        dataframe=m_train_df,\n",
    "        directory=\"../FOODX-251_Dataset/train_set\",\n",
    "        x_col = 'img_name', \n",
    "        y_col = columns,\n",
    "        batch_size = 64,\n",
    "        seed = 42,\n",
    "        shuffle=True,\n",
    "        class_mode=\"raw\",\n",
    "        target_size=(100,100))  \n",
    "\n",
    "valid_generator=train_datagen.flow_from_dataframe(\n",
    "        dataframe=m_val_df,\n",
    "        directory=\"../FOODX-251_Dataset/train_set\",\n",
    "        x_col='img_name',\n",
    "        y_col=columns,\n",
    "        batch_size=64,\n",
    "        seed=42,\n",
    "        shuffle=True,\n",
    "        class_mode=\"raw\",\n",
    "        target_size=(100,100))\n",
    "\n",
    "test_generator=test_datagen.flow_from_dataframe(\n",
    "        dataframe=m_test_df,\n",
    "        directory=\"../FOODX-251_Dataset/val_set\",\n",
    "        x_col='img_name',\n",
    "        y_col=columns,\n",
    "        batch_size=1,\n",
    "        seed=42,\n",
    "        shuffle=False,\n",
    "        class_mode=None,\n",
    "        target_size=(100,100))\n",
    "#plt.imshow(images[1])"
   ]
  },
  {
   "cell_type": "code",
   "execution_count": 11,
   "metadata": {},
   "outputs": [],
   "source": [
    "from keras.callbacks import LearningRateScheduler\n",
    "\n",
    "# This is a sample of a scheduler I used in the past\n",
    "def lr_scheduler(epoch, lr):\n",
    "    decay_rate = 0.1\n",
    "    decay_step = 10\n",
    "    if epoch % decay_step == 0 and epoch:\n",
    "        return lr * decay_rate\n",
    "    return lr"
   ]
  },
  {
   "cell_type": "code",
   "execution_count": null,
   "metadata": {},
   "outputs": [],
   "source": [
    "early_stopping_callback = EarlyStopping(monitor='val_loss', patience=25)"
   ]
  },
  {
   "cell_type": "code",
   "execution_count": 12,
   "metadata": {},
   "outputs": [],
   "source": [
    "callbacks = [LearningRateScheduler(lr_scheduler, verbose=1), early_stopping_callback]"
   ]
  },
  {
   "cell_type": "code",
   "execution_count": null,
   "metadata": {},
   "outputs": [],
   "source": []
  },
  {
   "cell_type": "code",
   "execution_count": 13,
   "metadata": {},
   "outputs": [
    {
     "name": "stdout",
     "output_type": "stream",
     "text": [
      "WARNING:tensorflow:From /home/jwf5/venv/lib/python3.5/site-packages/keras/backend/tensorflow_backend.py:422: The name tf.global_variables is deprecated. Please use tf.compat.v1.global_variables instead.\n",
      "\n",
      "Epoch 1/50\n",
      "\n",
      "Epoch 00001: LearningRateScheduler setting learning rate to 4.999999873689376e-05.\n",
      "1573/1573 [==============================] - 6987s 4s/step - loss: 0.3354 - mean_absolute_error: 0.4272 - val_loss: 0.1708 - val_mean_absolute_error: 0.3375\n",
      "Epoch 2/50\n",
      "\n",
      "Epoch 00002: LearningRateScheduler setting learning rate to 4.999999873689376e-05.\n",
      "1573/1573 [==============================] - 421s 268ms/step - loss: 0.1746 - mean_absolute_error: 0.3313 - val_loss: 0.1876 - val_mean_absolute_error: 0.3260\n",
      "Epoch 3/50\n",
      "\n",
      "Epoch 00003: LearningRateScheduler setting learning rate to 4.999999873689376e-05.\n",
      "1573/1573 [==============================] - 417s 265ms/step - loss: 0.1719 - mean_absolute_error: 0.3263 - val_loss: 0.1421 - val_mean_absolute_error: 0.3154\n",
      "Epoch 4/50\n",
      "\n",
      "Epoch 00004: LearningRateScheduler setting learning rate to 4.999999873689376e-05.\n",
      "1573/1573 [==============================] - 419s 266ms/step - loss: 0.1628 - mean_absolute_error: 0.3149 - val_loss: 0.1476 - val_mean_absolute_error: 0.2985\n",
      "Epoch 5/50\n",
      "\n",
      "Epoch 00005: LearningRateScheduler setting learning rate to 4.999999873689376e-05.\n",
      "1573/1573 [==============================] - 419s 266ms/step - loss: 0.1513 - mean_absolute_error: 0.3010 - val_loss: 0.1583 - val_mean_absolute_error: 0.2923\n",
      "Epoch 6/50\n",
      "\n",
      "Epoch 00006: LearningRateScheduler setting learning rate to 4.999999873689376e-05.\n",
      "1573/1573 [==============================] - 432s 275ms/step - loss: 0.1436 - mean_absolute_error: 0.2912 - val_loss: 0.1273 - val_mean_absolute_error: 0.2826\n",
      "Epoch 7/50\n",
      "\n",
      "Epoch 00007: LearningRateScheduler setting learning rate to 4.999999873689376e-05.\n",
      "1573/1573 [==============================] - 497s 316ms/step - loss: 0.1395 - mean_absolute_error: 0.2854 - val_loss: 0.1255 - val_mean_absolute_error: 0.2927\n",
      "Epoch 8/50\n",
      "\n",
      "Epoch 00008: LearningRateScheduler setting learning rate to 4.999999873689376e-05.\n",
      "1573/1573 [==============================] - 463s 294ms/step - loss: 0.1310 - mean_absolute_error: 0.2747 - val_loss: 0.1283 - val_mean_absolute_error: 0.2708\n",
      "Epoch 9/50\n",
      "\n",
      "Epoch 00009: LearningRateScheduler setting learning rate to 4.999999873689376e-05.\n",
      "1573/1573 [==============================] - 439s 279ms/step - loss: 0.1263 - mean_absolute_error: 0.2659 - val_loss: 0.1233 - val_mean_absolute_error: 0.2712\n",
      "Epoch 10/50\n",
      "\n",
      "Epoch 00010: LearningRateScheduler setting learning rate to 4.999999873689376e-05.\n",
      "1573/1573 [==============================] - 452s 287ms/step - loss: 0.1174 - mean_absolute_error: 0.2568 - val_loss: 0.1143 - val_mean_absolute_error: 0.2644\n",
      "Epoch 11/50\n",
      "\n",
      "Epoch 00011: LearningRateScheduler setting learning rate to 4.999999873689376e-06.\n",
      "1573/1573 [==============================] - 470s 298ms/step - loss: 0.1047 - mean_absolute_error: 0.2409 - val_loss: 0.1503 - val_mean_absolute_error: 0.2569\n",
      "Epoch 12/50\n",
      "\n",
      "Epoch 00012: LearningRateScheduler setting learning rate to 4.999999873689376e-06.\n",
      "1573/1573 [==============================] - 467s 297ms/step - loss: 0.1006 - mean_absolute_error: 0.2356 - val_loss: 0.1030 - val_mean_absolute_error: 0.2559\n",
      "Epoch 13/50\n",
      "\n",
      "Epoch 00013: LearningRateScheduler setting learning rate to 4.999999873689376e-06.\n",
      "1573/1573 [==============================] - 518s 329ms/step - loss: 0.0977 - mean_absolute_error: 0.2321 - val_loss: 0.0853 - val_mean_absolute_error: 0.2544\n",
      "Epoch 14/50\n",
      "\n",
      "Epoch 00014: LearningRateScheduler setting learning rate to 4.999999873689376e-06.\n",
      "1573/1573 [==============================] - 539s 343ms/step - loss: 0.0950 - mean_absolute_error: 0.2287 - val_loss: 0.1426 - val_mean_absolute_error: 0.2535\n",
      "Epoch 15/50\n",
      "\n",
      "Epoch 00015: LearningRateScheduler setting learning rate to 4.999999873689376e-06.\n",
      "1573/1573 [==============================] - 470s 299ms/step - loss: 0.0922 - mean_absolute_error: 0.2251 - val_loss: 0.1281 - val_mean_absolute_error: 0.2537\n",
      "Epoch 16/50\n",
      "\n",
      "Epoch 00016: LearningRateScheduler setting learning rate to 4.999999873689376e-06.\n",
      "1573/1573 [==============================] - 468s 298ms/step - loss: 0.0896 - mean_absolute_error: 0.2219 - val_loss: 0.1875 - val_mean_absolute_error: 0.2516\n",
      "Epoch 17/50\n",
      "\n",
      "Epoch 00017: LearningRateScheduler setting learning rate to 4.999999873689376e-06.\n",
      "1573/1573 [==============================] - 446s 283ms/step - loss: 0.0874 - mean_absolute_error: 0.2191 - val_loss: 0.1095 - val_mean_absolute_error: 0.2531\n",
      "Epoch 18/50\n",
      "\n",
      "Epoch 00018: LearningRateScheduler setting learning rate to 4.999999873689376e-06.\n",
      "1573/1573 [==============================] - 419s 267ms/step - loss: 0.0853 - mean_absolute_error: 0.2164 - val_loss: 0.1369 - val_mean_absolute_error: 0.2530\n",
      "Epoch 19/50\n",
      "\n",
      "Epoch 00019: LearningRateScheduler setting learning rate to 4.999999873689376e-06.\n",
      "1573/1573 [==============================] - 423s 269ms/step - loss: 0.0831 - mean_absolute_error: 0.2136 - val_loss: 0.1076 - val_mean_absolute_error: 0.2547\n",
      "Epoch 20/50\n",
      "\n",
      "Epoch 00020: LearningRateScheduler setting learning rate to 4.999999873689376e-06.\n",
      "1573/1573 [==============================] - 429s 273ms/step - loss: 0.0809 - mean_absolute_error: 0.2108 - val_loss: 0.1201 - val_mean_absolute_error: 0.2529\n",
      "Epoch 21/50\n",
      "\n",
      "Epoch 00021: LearningRateScheduler setting learning rate to 4.999999873689376e-07.\n",
      "1573/1573 [==============================] - 488s 310ms/step - loss: 0.0783 - mean_absolute_error: 0.2074 - val_loss: 0.1333 - val_mean_absolute_error: 0.2526\n",
      "Epoch 22/50\n",
      "\n",
      "Epoch 00022: LearningRateScheduler setting learning rate to 4.999999987376214e-07.\n",
      "1573/1573 [==============================] - 545s 347ms/step - loss: 0.0776 - mean_absolute_error: 0.2068 - val_loss: 0.1163 - val_mean_absolute_error: 0.2526\n",
      "Epoch 23/50\n",
      "\n",
      "Epoch 00023: LearningRateScheduler setting learning rate to 4.999999987376214e-07.\n",
      "1573/1573 [==============================] - 554s 352ms/step - loss: 0.0775 - mean_absolute_error: 0.2063 - val_loss: 0.1531 - val_mean_absolute_error: 0.2535\n",
      "Epoch 24/50\n",
      "\n",
      "Epoch 00024: LearningRateScheduler setting learning rate to 4.999999987376214e-07.\n",
      "1573/1573 [==============================] - 467s 297ms/step - loss: 0.0768 - mean_absolute_error: 0.2055 - val_loss: 0.1226 - val_mean_absolute_error: 0.2538\n",
      "Epoch 25/50\n",
      "\n",
      "Epoch 00025: LearningRateScheduler setting learning rate to 4.999999987376214e-07.\n",
      "1573/1573 [==============================] - 450s 286ms/step - loss: 0.0771 - mean_absolute_error: 0.2059 - val_loss: 0.1312 - val_mean_absolute_error: 0.2541\n",
      "Epoch 26/50\n",
      "\n",
      "Epoch 00026: LearningRateScheduler setting learning rate to 4.999999987376214e-07.\n",
      "1573/1573 [==============================] - 430s 274ms/step - loss: 0.0766 - mean_absolute_error: 0.2052 - val_loss: 0.1446 - val_mean_absolute_error: 0.2531\n",
      "Epoch 27/50\n",
      "\n",
      "Epoch 00027: LearningRateScheduler setting learning rate to 4.999999987376214e-07.\n",
      "1573/1573 [==============================] - 422s 268ms/step - loss: 0.0765 - mean_absolute_error: 0.2050 - val_loss: 0.1426 - val_mean_absolute_error: 0.2542\n",
      "Epoch 28/50\n",
      "\n",
      "Epoch 00028: LearningRateScheduler setting learning rate to 4.999999987376214e-07.\n",
      "1573/1573 [==============================] - 425s 270ms/step - loss: 0.0762 - mean_absolute_error: 0.2045 - val_loss: 0.0872 - val_mean_absolute_error: 0.2528\n",
      "Epoch 29/50\n",
      "\n",
      "Epoch 00029: LearningRateScheduler setting learning rate to 4.999999987376214e-07.\n",
      "1573/1573 [==============================] - 479s 304ms/step - loss: 0.0759 - mean_absolute_error: 0.2042 - val_loss: 0.1013 - val_mean_absolute_error: 0.2536\n",
      "Epoch 30/50\n",
      "\n",
      "Epoch 00030: LearningRateScheduler setting learning rate to 4.999999987376214e-07.\n",
      "1573/1573 [==============================] - 448s 285ms/step - loss: 0.0758 - mean_absolute_error: 0.2041 - val_loss: 0.1607 - val_mean_absolute_error: 0.2523\n",
      "Epoch 31/50\n",
      "\n",
      "Epoch 00031: LearningRateScheduler setting learning rate to 4.999999987376214e-08.\n",
      "1573/1573 [==============================] - 430s 273ms/step - loss: 0.0754 - mean_absolute_error: 0.2034 - val_loss: 0.1488 - val_mean_absolute_error: 0.2530\n",
      "Epoch 32/50\n",
      "\n",
      "Epoch 00032: LearningRateScheduler setting learning rate to 5.000000058430487e-08.\n"
     ]
    },
    {
     "name": "stdout",
     "output_type": "stream",
     "text": [
      "1573/1573 [==============================] - 430s 274ms/step - loss: 0.0753 - mean_absolute_error: 0.2036 - val_loss: 0.1166 - val_mean_absolute_error: 0.2534\n",
      "Epoch 33/50\n",
      "\n",
      "Epoch 00033: LearningRateScheduler setting learning rate to 5.000000058430487e-08.\n",
      "1573/1573 [==============================] - 431s 274ms/step - loss: 0.0752 - mean_absolute_error: 0.2033 - val_loss: 0.1277 - val_mean_absolute_error: 0.2530\n",
      "Epoch 34/50\n",
      "\n",
      "Epoch 00034: LearningRateScheduler setting learning rate to 5.000000058430487e-08.\n",
      "1573/1573 [==============================] - 421s 268ms/step - loss: 0.0754 - mean_absolute_error: 0.2034 - val_loss: 0.1226 - val_mean_absolute_error: 0.2540\n",
      "Epoch 35/50\n",
      "\n",
      "Epoch 00035: LearningRateScheduler setting learning rate to 5.000000058430487e-08.\n",
      "1573/1573 [==============================] - 433s 275ms/step - loss: 0.0752 - mean_absolute_error: 0.2034 - val_loss: 0.0981 - val_mean_absolute_error: 0.2524\n",
      "Epoch 36/50\n",
      "\n",
      "Epoch 00036: LearningRateScheduler setting learning rate to 5.000000058430487e-08.\n",
      "1573/1573 [==============================] - 423s 269ms/step - loss: 0.0751 - mean_absolute_error: 0.2031 - val_loss: 0.1096 - val_mean_absolute_error: 0.2554\n",
      "Epoch 37/50\n",
      "\n",
      "Epoch 00037: LearningRateScheduler setting learning rate to 5.000000058430487e-08.\n",
      "1573/1573 [==============================] - 444s 282ms/step - loss: 0.0749 - mean_absolute_error: 0.2032 - val_loss: 0.1447 - val_mean_absolute_error: 0.2522\n",
      "Epoch 38/50\n",
      "\n",
      "Epoch 00038: LearningRateScheduler setting learning rate to 5.000000058430487e-08.\n",
      "1573/1573 [==============================] - 495s 315ms/step - loss: 0.0749 - mean_absolute_error: 0.2031 - val_loss: 0.0974 - val_mean_absolute_error: 0.2536\n",
      "Epoch 39/50\n",
      "\n",
      "Epoch 00039: LearningRateScheduler setting learning rate to 5.000000058430487e-08.\n",
      "1573/1573 [==============================] - 454s 289ms/step - loss: 0.0749 - mean_absolute_error: 0.2030 - val_loss: 0.1204 - val_mean_absolute_error: 0.2527\n",
      "Epoch 40/50\n",
      "\n",
      "Epoch 00040: LearningRateScheduler setting learning rate to 5.000000058430487e-08.\n",
      "1573/1573 [==============================] - 443s 282ms/step - loss: 0.0752 - mean_absolute_error: 0.2035 - val_loss: 0.1183 - val_mean_absolute_error: 0.2530\n",
      "Epoch 41/50\n",
      "\n",
      "Epoch 00041: LearningRateScheduler setting learning rate to 5.000000058430488e-09.\n",
      "1573/1573 [==============================] - 424s 269ms/step - loss: 0.0752 - mean_absolute_error: 0.2034 - val_loss: 0.0948 - val_mean_absolute_error: 0.2528\n",
      "Epoch 42/50\n",
      "\n",
      "Epoch 00042: LearningRateScheduler setting learning rate to 4.999999969612645e-09.\n",
      "1573/1573 [==============================] - 420s 267ms/step - loss: 0.0749 - mean_absolute_error: 0.2029 - val_loss: 0.1531 - val_mean_absolute_error: 0.2535\n",
      "Epoch 43/50\n",
      "\n",
      "Epoch 00043: LearningRateScheduler setting learning rate to 4.999999969612645e-09.\n",
      "1573/1573 [==============================] - 420s 267ms/step - loss: 0.0749 - mean_absolute_error: 0.2030 - val_loss: 0.0946 - val_mean_absolute_error: 0.2531\n",
      "Epoch 44/50\n",
      "\n",
      "Epoch 00044: LearningRateScheduler setting learning rate to 4.999999969612645e-09.\n",
      "1573/1573 [==============================] - 420s 267ms/step - loss: 0.0749 - mean_absolute_error: 0.2030 - val_loss: 0.1351 - val_mean_absolute_error: 0.2547\n",
      "Epoch 45/50\n",
      "\n",
      "Epoch 00045: LearningRateScheduler setting learning rate to 4.999999969612645e-09.\n",
      "1573/1573 [==============================] - 423s 269ms/step - loss: 0.0747 - mean_absolute_error: 0.2026 - val_loss: 0.1341 - val_mean_absolute_error: 0.2522\n",
      "Epoch 46/50\n",
      "\n",
      "Epoch 00046: LearningRateScheduler setting learning rate to 4.999999969612645e-09.\n",
      "1573/1573 [==============================] - 461s 293ms/step - loss: 0.0749 - mean_absolute_error: 0.2030 - val_loss: 0.1347 - val_mean_absolute_error: 0.2540\n",
      "Epoch 47/50\n",
      "\n",
      "Epoch 00047: LearningRateScheduler setting learning rate to 4.999999969612645e-09.\n",
      "1573/1573 [==============================] - 431s 274ms/step - loss: 0.0749 - mean_absolute_error: 0.2031 - val_loss: 0.1101 - val_mean_absolute_error: 0.2539\n",
      "Epoch 48/50\n",
      "\n",
      "Epoch 00048: LearningRateScheduler setting learning rate to 4.999999969612645e-09.\n",
      "1573/1573 [==============================] - 430s 274ms/step - loss: 0.0748 - mean_absolute_error: 0.2029 - val_loss: 0.1642 - val_mean_absolute_error: 0.2529\n",
      "Epoch 49/50\n",
      "\n",
      "Epoch 00049: LearningRateScheduler setting learning rate to 4.999999969612645e-09.\n",
      "1573/1573 [==============================] - 421s 268ms/step - loss: 0.0750 - mean_absolute_error: 0.2030 - val_loss: 0.1705 - val_mean_absolute_error: 0.2534\n",
      "Epoch 50/50\n",
      "\n",
      "Epoch 00050: LearningRateScheduler setting learning rate to 4.999999969612645e-09.\n",
      "1573/1573 [==============================] - 420s 267ms/step - loss: 0.0752 - mean_absolute_error: 0.2035 - val_loss: 0.1326 - val_mean_absolute_error: 0.2533\n"
     ]
    }
   ],
   "source": [
    "#Fit the model\n",
    "STEP_SIZE_TRAIN=train_generator.n//train_generator.batch_size\n",
    "STEP_SIZE_VALID=valid_generator.n//valid_generator.batch_size\n",
    "STEP_SIZE_TEST=test_generator.n//test_generator.batch_size\n",
    "history = model.fit_generator(generator=train_generator,\n",
    "                    callbacks=callbacks,\n",
    "                    steps_per_epoch=STEP_SIZE_TRAIN,\n",
    "                    validation_data=valid_generator,\n",
    "                    validation_steps=STEP_SIZE_VALID,\n",
    "                    epochs=50\n",
    ")"
   ]
  },
  {
   "cell_type": "code",
   "execution_count": 26,
   "metadata": {},
   "outputs": [],
   "source": [
    "matplotlib.use(\"pgf\")\n",
    "matplotlib.rcParams.update({\n",
    "    \"pgf.texsystem\": \"pdflatex\",\n",
    "    'font.family': 'serif',\n",
    "    'text.usetex': True,\n",
    "    'pgf.rcfonts': False,\n",
    "})"
   ]
  },
  {
   "cell_type": "code",
   "execution_count": 27,
   "metadata": {},
   "outputs": [
    {
     "data": {
      "image/png": "[encoded data removed]",
      "text/plain": [
       "<Figure size 432x288 with 1 Axes>"
      ]
     },
     "metadata": {
      "needs_background": "light"
     },
     "output_type": "display_data"
    }
   ],
   "source": [
    "# Plot history: MAE\n",
    "plt.plot(history.history['loss'], label='MSE ')\n",
    "plt.plot(history.history['val_loss'], label='MSE (validation data)')\n",
    "plt.title('MSE for ResNet101')\n",
    "plt.ylabel('MSE value')\n",
    "plt.xlabel('No. epoch')\n",
    "plt.legend(loc=\"upper left\")\n",
    "plt.show()\n"
   ]
  },
  {
   "cell_type": "code",
   "execution_count": 16,
   "metadata": {},
   "outputs": [
    {
     "name": "stdout",
     "output_type": "stream",
     "text": [
      "11994/11994 [==============================] - 433s 36ms/step\n"
     ]
    }
   ],
   "source": [
    "test_generator.reset()\n",
    "pred=model.predict_generator(test_generator,\n",
    "steps=STEP_SIZE_TEST,\n",
    "verbose=1)"
   ]
  },
  {
   "cell_type": "code",
   "execution_count": 17,
   "metadata": {},
   "outputs": [],
   "source": [
    "results=pd.DataFrame(pred, columns=columns)"
   ]
  },
  {
   "cell_type": "code",
   "execution_count": 18,
   "metadata": {},
   "outputs": [],
   "source": [
    "resultsRescaled = scaler.inverse_transform(results)"
   ]
  },
  {
   "cell_type": "code",
   "execution_count": 19,
   "metadata": {},
   "outputs": [
    {
     "data": {
      "text/html": [
       "<div>\n",
       "<style scoped>\n",
       "    .dataframe tbody tr th:only-of-type {\n",
       "        vertical-align: middle;\n",
       "    }\n",
       "\n",
       "    .dataframe tbody tr th {\n",
       "        vertical-align: top;\n",
       "    }\n",
       "\n",
       "    .dataframe thead th {\n",
       "        text-align: right;\n",
       "    }\n",
       "</style>\n",
       "<table border=\"1\" class=\"dataframe\">\n",
       "  <thead>\n",
       "    <tr style=\"text-align: right;\">\n",
       "      <th></th>\n",
       "      <th>Energy</th>\n",
       "      <th>Protein</th>\n",
       "      <th>Fat</th>\n",
       "      <th>Carbohydrate</th>\n",
       "    </tr>\n",
       "  </thead>\n",
       "  <tbody>\n",
       "    <tr>\n",
       "      <th>0</th>\n",
       "      <td>0.090324</td>\n",
       "      <td>-0.577337</td>\n",
       "      <td>-0.409935</td>\n",
       "      <td>-0.139402</td>\n",
       "    </tr>\n",
       "    <tr>\n",
       "      <th>1</th>\n",
       "      <td>-0.353465</td>\n",
       "      <td>0.278056</td>\n",
       "      <td>-0.662941</td>\n",
       "      <td>-0.818455</td>\n",
       "    </tr>\n",
       "    <tr>\n",
       "      <th>2</th>\n",
       "      <td>0.259803</td>\n",
       "      <td>-0.598554</td>\n",
       "      <td>-0.351208</td>\n",
       "      <td>0.064855</td>\n",
       "    </tr>\n",
       "    <tr>\n",
       "      <th>3</th>\n",
       "      <td>0.183168</td>\n",
       "      <td>-0.608820</td>\n",
       "      <td>-0.373798</td>\n",
       "      <td>-0.003037</td>\n",
       "    </tr>\n",
       "    <tr>\n",
       "      <th>4</th>\n",
       "      <td>-0.338138</td>\n",
       "      <td>-0.507926</td>\n",
       "      <td>-0.684471</td>\n",
       "      <td>-0.440854</td>\n",
       "    </tr>\n",
       "  </tbody>\n",
       "</table>\n",
       "</div>"
      ],
      "text/plain": [
       "     Energy   Protein       Fat  Carbohydrate\n",
       "0  0.090324 -0.577337 -0.409935     -0.139402\n",
       "1 -0.353465  0.278056 -0.662941     -0.818455\n",
       "2  0.259803 -0.598554 -0.351208      0.064855\n",
       "3  0.183168 -0.608820 -0.373798     -0.003037\n",
       "4 -0.338138 -0.507926 -0.684471     -0.440854"
      ]
     },
     "execution_count": 19,
     "metadata": {},
     "output_type": "execute_result"
    }
   ],
   "source": [
    "results.head()"
   ]
  },
  {
   "cell_type": "code",
   "execution_count": 20,
   "metadata": {},
   "outputs": [
    {
     "name": "stdout",
     "output_type": "stream",
     "text": [
      "[[292.90042     6.9193935  14.648109   35.957115 ]\n",
      " [180.384      21.26236     8.259061    7.2516656]\n",
      " [335.86914     6.563643   16.131111   44.591587 ]\n",
      " ...\n",
      " [176.26872    11.441427    9.656847   12.084336 ]\n",
      " [159.86435    23.457506    3.5349252  12.166815 ]\n",
      " [134.5573     13.402769    5.673326    7.734783 ]]\n"
     ]
    }
   ],
   "source": [
    "# loss, t= model.evaluate_generator(test_generator,\n",
    "#     steps=STEP_SIZE_TEST,\n",
    "#     verbose=1)\n",
    "print(resultsRescaled)"
   ]
  },
  {
   "cell_type": "code",
   "execution_count": 21,
   "metadata": {},
   "outputs": [
    {
     "name": "stdout",
     "output_type": "stream",
     "text": [
      "RSME for Energy: 91.93785417746061 Relative RSME: 0.4206456622824417\n",
      "RSME for Protein: 5.5594443763289165 Relative RSME: 0.5707082420783735\n",
      "RSME for Fat: 7.453956000743086 Relative RSME: 0.6882583370843486\n",
      "RSME for Carbohydrate: 15.805861044344672 Relative RSME: 0.7646141545705555\n",
      "\n",
      "\n"
     ]
    }
   ],
   "source": [
    "RSMEArray = []\n",
    "RSMEArray.append(sqrt(mean_squared_error(m_test_df['Energy'], resultsRescaled[:,0])))\n",
    "RSMEArray.append(sqrt(mean_squared_error(m_test_df['Protein'], resultsRescaled[:,1])))\n",
    "RSMEArray.append(sqrt(mean_squared_error(m_test_df['Fat'], resultsRescaled[:,2])))\n",
    "RSMEArray.append(sqrt(mean_squared_error(m_test_df['Carbohydrate'], resultsRescaled[:,3])))\n",
    "print(\"RSME for Energy: \"  + str(RSMEArray[0]) + \" Relative RSME: \" + str(RSMEArray[0]/m_test_df['Energy'].mean()))\n",
    "print(\"RSME for Protein: \"  + str(RSMEArray[1]) + \" Relative RSME: \" + str(RSMEArray[1]/m_test_df['Protein'].mean()))\n",
    "print(\"RSME for Fat: \"  + str(RSMEArray[2]) + \" Relative RSME: \" + str(RSMEArray[2]/m_test_df['Fat'].mean()))\n",
    "print(\"RSME for Carbohydrate: \"  + str(RSMEArray[3]) + \" Relative RSME: \" + str(RSMEArray[3]/m_test_df['Carbohydrate'].mean()))\n",
    "print()\n",
    "print()\n",
    "print(sqrt(mean_squared_error(m_test_df['Energy'], resultsRescaled[:,0])/mean_squared_error(m_test_df['Energy'], resultsRescaled[:,0]))"
   ]
  },
  {
   "cell_type": "code",
   "execution_count": 22,
   "metadata": {},
   "outputs": [
    {
     "name": "stdout",
     "output_type": "stream",
     "text": [
      "Results for using mean as predicted\n",
      "RSME Energy: 111.49862486903056\n",
      "RSME Protein: 6.728070397843198\n",
      "RSME Fat: 8.487148321355496\n",
      "RSME Carbohydrate: 19.356375952900237\n"
     ]
    }
   ],
   "source": [
    "\n",
    "\n",
    "dummy_regr = DummyRegressor(strategy=\"mean\")\n",
    "dummy_regr.fit(m_train_df['Energy'], m_train_df[['Energy' , 'Protein' , 'Fat', 'Carbohydrate']])\n",
    "pred = dummy_regr.predict(m_test_df[['Energy' , 'Protein' , 'Fat', 'Carbohydrate']])\n",
    "pred = scaler.inverse_transform(pred)\n",
    "\n",
    "print(\"Results for using mean as predicted\")\n",
    "print(\"RSME Energy: \"  + str(sqrt(mean_squared_error(m_test_df['Energy'], pred[:,0]))))\n",
    "print(\"RSME Protein: \"  + str(sqrt(mean_squared_error(m_test_df['Protein'], pred[:,1]))))\n",
    "print(\"RSME Fat: \"  + str(sqrt(mean_squared_error(m_test_df['Fat'], pred[:,2]))))\n",
    "print(\"RSME Carbohydrate: \"  + str(sqrt(mean_squared_error(m_test_df['Carbohydrate'], pred[:,3]))))\n",
    "\n"
   ]
  },
  {
   "cell_type": "code",
   "execution_count": 25,
   "metadata": {},
   "outputs": [
    {
     "name": "stdout",
     "output_type": "stream",
     "text": [
      "0.8245649153561616\n",
      "0.8263059164944372\n",
      "0.8782639019029895\n",
      "0.8165712984085961\n"
     ]
    }
   ],
   "source": [
    "print(sqrt(mean_squared_error(m_test_df['Energy'], resultsRescaled[:,0]) / mean_squared_error(m_test_df['Energy'],pred[:,0])))\n",
    "print(sqrt(mean_squared_error(m_test_df['Protein'], resultsRescaled[:,1]) / mean_squared_error(m_test_df['Protein'],pred[:,1])))\n",
    "print(sqrt(mean_squared_error(m_test_df['Fat'], resultsRescaled[:,2]) / mean_squared_error(m_test_df['Fat'],pred[:,2])))\n",
    "print(sqrt(mean_squared_error(m_test_df['Carbohydrate'], resultsRescaled[:,3]) / mean_squared_error(m_test_df['Carbohydrate'],pred[:,3])))"
   ]
  },
  {
   "cell_type": "code",
   "execution_count": null,
   "metadata": {},
   "outputs": [],
   "source": []
  }
 ],
 "metadata": {
  "kernelspec": {
   "display_name": "Python 3",
   "language": "python",
   "name": "python3"
  },
  "language_info": {
   "codemirror_mode": {
    "name": "ipython",
    "version": 3
   },
   "file_extension": ".py",
   "mimetype": "text/x-python",
   "name": "python",
   "nbconvert_exporter": "python",
   "pygments_lexer": "ipython3",
   "version": "3.5.2"
  }
 },
 "nbformat": 4,
 "nbformat_minor": 4
}
